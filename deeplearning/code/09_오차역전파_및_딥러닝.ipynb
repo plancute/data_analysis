{
  "nbformat": 4,
  "nbformat_minor": 0,
  "metadata": {
    "colab": {
      "name": "09. 오차역전파 및 딥러닝.ipynb",
      "provenance": [],
      "collapsed_sections": [],
      "authorship_tag": "ABX9TyOo5tNUFcDUQJU7ZjZQ9TO5",
      "include_colab_link": true
    },
    "kernelspec": {
      "name": "python3",
      "display_name": "Python 3"
    }
  },
  "cells": [
    {
      "cell_type": "markdown",
      "metadata": {
        "id": "view-in-github",
        "colab_type": "text"
      },
      "source": [
        "<a href=\"https://colab.research.google.com/github/plancute/python/blob/master/deeplearning/code/09_%EC%98%A4%EC%B0%A8%EC%97%AD%EC%A0%84%ED%8C%8C_%EB%B0%8F_%EB%94%A5%EB%9F%AC%EB%8B%9D.ipynb\" target=\"_parent\"><img src=\"https://colab.research.google.com/assets/colab-badge.svg\" alt=\"Open In Colab\"/></a>"
      ]
    },
    {
      "cell_type": "markdown",
      "metadata": {
        "id": "pgvTvWcOYpy0",
        "colab_type": "text"
      },
      "source": [
        "# 8장 오차 역전파 (110-113p)\n"
      ]
    },
    {
      "cell_type": "markdown",
      "metadata": {
        "id": "UJoryrTgL7QQ",
        "colab_type": "text"
      },
      "source": [
        "![python image2](https://thebook.io/img/080228/117_1.jpg)\n",
        "![python image2](https://thebook.io/img/080228/117_2.jpg)"
      ]
    },
    {
      "cell_type": "markdown",
      "metadata": {
        "id": "lBpiaDcNMZQv",
        "colab_type": "text"
      },
      "source": [
        "오차역전파 구동방식 <br>\n",
        "1, 임의의 초기 가중치(W)를 준 뒤 결과(Yout)를 계산한다. <br>\n",
        "2. 계산 결과와 우리가 원하는 값 사이의 오차를 구한다. <br>\n",
        "3. 경사 하강법을 이용해 바로 앞 가중치를 오차가 작아지는 방향으로 업데이트 한다. <br>\n",
        "4. 위 과정을 더이상 오차가 줄어들지 않을 때까지 반복한다. <br>"
      ]
    },
    {
      "cell_type": "markdown",
      "metadata": {
        "id": "7x_yRVRBOxS7",
        "colab_type": "text"
      },
      "source": [
        "# 부록 B 심화학습 2: 파이썬 코드로 확인하는 신경망 (273-282p)"
      ]
    },
    {
      "cell_type": "code",
      "metadata": {
        "id": "KJj2RgOAPEZ5",
        "colab_type": "code",
        "colab": {}
      },
      "source": [
        "# -*- coding: utf-8 -*-\n",
        "\n",
        "import random\n",
        "import numpy as np\n",
        "\n",
        "random.seed(777)\n",
        "\n",
        "# 환경 변수 지정\n",
        "\n",
        "# 입력값 및 타겟값\n",
        "data = [\n",
        "    [[0, 0], [0]],\n",
        "    [[0, 1], [1]],\n",
        "    [[1, 0], [1]],\n",
        "    [[1, 1], [0]]\n",
        "]"
      ],
      "execution_count": 1,
      "outputs": []
    },
    {
      "cell_type": "code",
      "metadata": {
        "id": "R0mBkmzlQTED",
        "colab_type": "code",
        "colab": {}
      },
      "source": [
        "# 실행 횟수(iterations), 학습률(lr), 모멘텀 계수(mo) 설정\n",
        "iterations=5000\n",
        "lr=0.1\n",
        "mo=0.9\n",
        "\n",
        "# 활성화 함수 - 1. 시그모이드\n",
        "# 미분할 때와 아닐 때의 각각의 값\n",
        "def sigmoid(x, derivative=False):\n",
        "    if (derivative == True):\n",
        "        return x * (1 - x)\n",
        "    return 1 / (1 + np.exp(-x))\n",
        "\n",
        "# 활성화 함수 - 2. tanh\n",
        "# tanh 함수의 미분은 1 - (활성화 함수 출력의 제곱)\n",
        "def tanh(x, derivative=False):\n",
        "    if (derivative == True):\n",
        "        return 1 - x ** 2\n",
        "    return np.tanh(x)\n",
        "\n",
        "# 가중치 배열 만드는 함수\n",
        "def makeMatrix(i, j, fill=0.0):\n",
        "    mat = []\n",
        "    for i in range(i):\n",
        "        mat.append([fill] * j)\n",
        "    return mat\n"
      ],
      "execution_count": 2,
      "outputs": []
    },
    {
      "cell_type": "code",
      "metadata": {
        "id": "AbJtrJGdQc-h",
        "colab_type": "code",
        "colab": {}
      },
      "source": [
        "# 신경망의 실행\n",
        "class NeuralNetwork:\n",
        "\n",
        "    # 초깃값의 지정\n",
        "    def __init__(self, num_x, num_yh, num_yo, bias=1):\n",
        "\n",
        "        # 입력값(num_x), 은닉층 초깃값(num_yh), 출력층 초깃값(num_yo), 바이어스\n",
        "        self.num_x = num_x + bias  # 바이어스는 1로 지정(본문 참조)\n",
        "        self.num_yh = num_yh\n",
        "        self.num_yo = num_yo\n",
        "\n",
        "        # 활성화 함수 초깃값\n",
        "        self.activation_input = [1.0] * self.num_x\n",
        "        self.activation_hidden = [1.0] * self.num_yh\n",
        "        self.activation_out = [1.0] * self.num_yo\n",
        "\n",
        "        # 가중치 입력 초깃값\n",
        "        self.weight_in = makeMatrix(self.num_x, self.num_yh)\n",
        "        for i in range(self.num_x):\n",
        "            for j in range(self.num_yh):\n",
        "                self.weight_in[i][j] = random.random()\n",
        "\n",
        "        # 가중치 출력 초깃값\n",
        "        self.weight_out = makeMatrix(self.num_yh, self.num_yo)\n",
        "        for j in range(self.num_yh):\n",
        "            for k in range(self.num_yo):\n",
        "                self.weight_out[j][k] = random.random()\n",
        "\n",
        "        # 모멘텀 SGD를 위한 이전 가중치 초깃값\n",
        "        self.gradient_in = makeMatrix(self.num_x, self.num_yh)\n",
        "        self.gradient_out = makeMatrix(self.num_yh, self.num_yo)\n",
        "\n",
        "    # 업데이트 함수\n",
        "    def update(self, inputs):\n",
        "\n",
        "        # 입력 레이어의 활성화 함수\n",
        "        for i in range(self.num_x - 1):\n",
        "            self.activation_input[i] = inputs[i]\n",
        "\n",
        "        # 은닉층의 활성화 함수\n",
        "        for j in range(self.num_yh):\n",
        "            sum = 0.0\n",
        "            for i in range(self.num_x):\n",
        "                sum = sum + self.activation_input[i] * self.weight_in[i][j]\n",
        "            # 시그모이드와 tanh 중에서 활성화 함수 선택\n",
        "            self.activation_hidden[j] = tanh(sum, False)\n",
        "\n",
        "        # 출력층의 활성화 함수\n",
        "        for k in range(self.num_yo):\n",
        "            sum = 0.0\n",
        "            for j in range(self.num_yh):\n",
        "                sum = sum + self.activation_hidden[j] * self.weight_out[j][k]\n",
        "            # 시그모이드와 tanh 중에서 활성화 함수 선택\n",
        "            self.activation_out[k] = tanh(sum, False)\n",
        "\n",
        "        return self.activation_out[:]\n",
        "    \n",
        "    # 역전파의 실행\n",
        "    def backPropagate(self, targets):\n",
        "\n",
        "        # 델타 출력 계산\n",
        "        output_deltas = [0.0] * self.num_yo\n",
        "        for k in range(self.num_yo):\n",
        "            error = targets[k] - self.activation_out[k]\n",
        "            # 시그모이드와 tanh 중에서 활성화 함수 선택, 미분 적용\n",
        "            output_deltas[k] = tanh(self.activation_out[k], True) * error\n",
        "\n",
        "        # 은닉 노드의 오차 함수\n",
        "        hidden_deltas = [0.0] * self.num_yh\n",
        "        for j in range(self.num_yh):\n",
        "            error = 0.0\n",
        "            for k in range(self.num_yo):\n",
        "                error = error + output_deltas[k] * self.weight_out[j][k]\n",
        "                # 시그모이드와 tanh 중에서 활성화 함수 선택, 미분 적용\n",
        "            hidden_deltas[j] = tanh(self.activation_hidden[j], True) * error\n",
        "\n",
        "        # 출력 가중치 업데이트\n",
        "        for j in range(self.num_yh):\n",
        "            for k in range(self.num_yo):\n",
        "                gradient = output_deltas[k] * self.activation_hidden[j]\n",
        "                v = mo * self.gradient_in[j][k] - lr * gradient\n",
        "                self.weight_in[j][k] += v\n",
        "                self.gradient_out[j][k] = gradient\n",
        "\n",
        "        # 입력 가중치 업데이트\n",
        "        for i in range(self.num_x):\n",
        "            for j in range(self.num_yh):\n",
        "                gradient = hidden_deltas[j] * self.activation_input[i]\n",
        "                v = mo*self.gradient_in[i][j] - lr * gradient\n",
        "                self.weight_in[i][j] += v\n",
        "                self.gradient_in[i][j] = gradient\n",
        "\n",
        "        # 오차의 계산(최소 제곱법)\n",
        "        error = 0.0\n",
        "        for k in range(len(targets)):\n",
        "            error = error + 0.5 * (targets[k] - self.activation_out[k]) ** 2\n",
        "        return error\n",
        "\n",
        "    # 학습 실행\n",
        "    def train(self, patterns):\n",
        "        for i in range(iterations):\n",
        "            error = 0.0\n",
        "            for p in patterns:\n",
        "                inputs = p[0]\n",
        "                targets = p[1]\n",
        "                self.update(inputs)\n",
        "                error = error + self.backPropagate(targets)\n",
        "            if i % 500 == 0:\n",
        "                print('error: %-.5f' % error)\n",
        "    # 결괏값 출력\n",
        "    def result(self, patterns):\n",
        "        for p in patterns:\n",
        "            print('Input: %s, Predict: %s' % (p[0], self.update(p[0])))\n",
        "\n"
      ],
      "execution_count": 3,
      "outputs": []
    },
    {
      "cell_type": "code",
      "metadata": {
        "id": "bTd7YxLUQgzG",
        "colab_type": "code",
        "colab": {
          "base_uri": "https://localhost:8080/",
          "height": 274
        },
        "outputId": "8fbb150a-1d4c-46c1-b600-0d844664b40b"
      },
      "source": [
        "if __name__ == '__main__':\n",
        "\n",
        "    # 두 개의 입력 값, 두 개의 레이어, 하나의 출력 값을 갖도록 설정\n",
        "    n = NeuralNetwork(2, 2, 1)\n",
        "\n",
        "    # 학습 실행\n",
        "    n.train(data)\n",
        "\n",
        "    # 결괏값 출력\n",
        "    n.result(data)\n",
        "\n",
        "\n",
        "# Reference: http://arctrix.com/nas/python/bpnn.py (Neil Schemenauer)\n"
      ],
      "execution_count": 4,
      "outputs": [
        {
          "output_type": "stream",
          "text": [
            "error: 0.67409\n",
            "error: 0.00908\n",
            "error: 0.00629\n",
            "error: 0.00534\n",
            "error: 0.00485\n",
            "error: 0.00456\n",
            "error: 0.00437\n",
            "error: 0.00424\n",
            "error: 0.00414\n",
            "error: 0.00407\n",
            "Input: [0, 0], Predict: [0.02205037348028232]\n",
            "Input: [0, 1], Predict: [0.9397971425282383]\n",
            "Input: [1, 0], Predict: [0.9421145997321853]\n",
            "Input: [1, 1], Predict: [0.02405264543901786]\n"
          ],
          "name": "stdout"
        }
      ]
    },
    {
      "cell_type": "markdown",
      "metadata": {
        "id": "C3uCC0uaL3fA",
        "colab_type": "text"
      },
      "source": [
        "# 9장 신경망에서 딥러닝으로 (114-120p)"
      ]
    },
    {
      "cell_type": "markdown",
      "metadata": {
        "id": "-fejY1ule6TO",
        "colab_type": "text"
      },
      "source": [
        "오차 역전파를 통해 출력층으로부터 하나씩 앞으로 되돌아가며 각 층의 가중치를 수정할 때, 가중치를 수정하려면 미분값이 필요하다. <br>\n",
        "그런데 층이 늘어나면서 기울기가 0 이 되버리는 기울기 소실이 발생한다. <br>\n",
        "시그모이드 함수 미분값은 최대치가 0.3 이며 1보다 작으므로 계속 곱하다 보면 0에 가까워진다. <br>\n",
        "이를 해결하고자 활성화 함수를 다른 함수로 대체하기 시작하였다. <br>\n",
        "* 딥러닝에서 ReLU를 많이 사용한다."
      ]
    },
    {
      "cell_type": "markdown",
      "metadata": {
        "id": "iIwkqp1S5dzX",
        "colab_type": "text"
      },
      "source": [
        "* 대표적인 활성화 함수"
      ]
    },
    {
      "cell_type": "markdown",
      "metadata": {
        "id": "MYtYRfMz5RGx",
        "colab_type": "text"
      },
      "source": [
        "![python image2](https://img1.daumcdn.net/thumb/R1280x0/?scode=mtistory2&fname=https%3A%2F%2Fblog.kakaocdn.net%2Fdn%2FNez8m%2FbtqBQoxpE4Z%2FYvKeF07hh7fR3qbkmymKq0%2Fimg.png)"
      ]
    },
    {
      "cell_type": "code",
      "metadata": {
        "id": "pSB06VQc7QzM",
        "colab_type": "code",
        "colab": {}
      },
      "source": [
        "import numpy as np\n",
        "import matplotlib.pylab as plt\n",
        "\n",
        "def sigmoid_func(x): # 시그모이드(Sigmoid, S자모양) 대표적인 함수\n",
        "    return 1 / (1 + np.exp(-x))\n",
        "\n",
        "def sigmoid_d_func(x): # 시그모이드 미분\n",
        "    return sigmoid_func(x)*(1-sigmoid_func(x))\n",
        "\n",
        "def tanh_func(x): # TanH 함수\n",
        "    return np.tanh(x)\n",
        "    # return 2 / (1 + np.exp(-2*x)) - 1 # same\n",
        "\n",
        "def tanh_d_func(x): # TanH 미분\n",
        "    return (1-np.tanh(x))*(1+np.tanh(x))\n",
        "    \n",
        "def relu_func(x): # ReLU(Rectified Linear Unit, 정류된 선형 유닛) 함수\n",
        "    return (x>0)*x\n",
        "    # return np.maximum(0,x) # same\n",
        "\n",
        "def relu_d_func(x): # ReLU 미분 (x가 0 이상일때는 1, 0 미만일때는 0)\n",
        "    return (x>0)*1\n",
        "\n",
        "def softplus_func(x): # SoftPlus 함수\n",
        "    return np.log( 1 + np.exp(x) )\n",
        "\n",
        "def softplus_d_func(x): # SoftPlus 미분 (= 시그모이드 함수)\n",
        "    return sigmoid_func(x)"
      ],
      "execution_count": 5,
      "outputs": []
    },
    {
      "cell_type": "code",
      "metadata": {
        "id": "_Vtap3W394bS",
        "colab_type": "code",
        "colab": {
          "base_uri": "https://localhost:8080/",
          "height": 281
        },
        "outputId": "8ed17199-6e61-4087-af0c-0d5cf4c896b8"
      },
      "source": [
        "# 모두의 딥러닝 책 116 page\n",
        "# 더 많은 활성함수 : https://subinium.github.io/introduction-to-activation/\n",
        "x = np.arange(-5.0, 5.0, 0.1)\n",
        "plt.subplot(221)\n",
        "plt.title('sigmoid')\n",
        "plt.plot(x, sigmoid_func(x))\n",
        "plt.plot(x, sigmoid_d_func(x))\n",
        "plt.subplot(222)\n",
        "plt.title('tanh')\n",
        "plt.plot(x, tanh_func(x))\n",
        "plt.plot(x, tanh_d_func(x))\n",
        "plt.subplot(223)\n",
        "plt.title('relu')\n",
        "plt.plot(x, relu_func(x))\n",
        "plt.plot(x, relu_d_func(x))\n",
        "plt.subplot(224)\n",
        "plt.title('softplus')\n",
        "plt.plot(x, softplus_func(x))\n",
        "plt.plot(x, softplus_d_func(x))\n",
        "plt.show()"
      ],
      "execution_count": 6,
      "outputs": [
        {
          "output_type": "display_data",
          "data": {
            "image/png": "[encoded data removed]",
            "text/plain": [
              "<Figure size 432x288 with 4 Axes>"
            ]
          },
          "metadata": {
            "tags": [],
            "needs_background": "light"
          }
        }
      ]
    },
    {
      "cell_type": "markdown",
      "metadata": {
        "id": "JcTwTxtkSB4O",
        "colab_type": "text"
      },
      "source": [
        "========================= EOF ========================="
      ]
    }
  ]
}