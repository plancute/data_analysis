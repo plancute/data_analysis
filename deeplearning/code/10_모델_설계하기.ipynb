{
  "nbformat": 4,
  "nbformat_minor": 0,
  "metadata": {
    "colab": {
      "name": "10_모델 설계하기.ipynb",
      "provenance": [],
      "collapsed_sections": [],
      "mount_file_id": "1aynvEPKqJUAk-ar1EbJO1n_larTGlqEI",
      "authorship_tag": "ABX9TyNSNzQWA7oygqgf/k3ePCq0",
      "include_colab_link": true
    },
    "kernelspec": {
      "name": "python3",
      "display_name": "Python 3"
    }
  },
  "cells": [
    {
      "cell_type": "markdown",
      "metadata": {
        "id": "view-in-github",
        "colab_type": "text"
      },
      "source": [
        "<a href=\"https://colab.research.google.com/github/plancute/python/blob/master/deeplearning/code/10_%EB%AA%A8%EB%8D%B8_%EC%84%A4%EA%B3%84%ED%95%98%EA%B8%B0.ipynb\" target=\"_parent\"><img src=\"https://colab.research.google.com/assets/colab-badge.svg\" alt=\"Open In Colab\"/></a>"
      ]
    },
    {
      "cell_type": "markdown",
      "metadata": {
        "id": "bSwK0EX38CXq",
        "colab_type": "text"
      },
      "source": [
        "10장 모델 설계하기"
      ]
    },
    {
      "cell_type": "code",
      "metadata": {
        "id": "kYgycuqOkRsK",
        "colab_type": "code",
        "colab": {}
      },
      "source": [
        "# -*- coding: utf-8 -*-\n",
        "# 코드 내부에 한글을 사용가능 하게 해주는 부분입니다."
      ],
      "execution_count": 1,
      "outputs": []
    },
    {
      "cell_type": "code",
      "metadata": {
        "id": "_hEvaQ7umgpn",
        "colab_type": "code",
        "colab": {}
      },
      "source": [
        "# 딥러닝을 구동하는 데 필요한 케라스 함수를 불러옵니다.\n",
        "from keras.models import Sequential\n",
        "from keras.layers import Dense"
      ],
      "execution_count": 2,
      "outputs": []
    },
    {
      "cell_type": "code",
      "metadata": {
        "id": "1RiTO1a9nBRT",
        "colab_type": "code",
        "colab": {}
      },
      "source": [
        "# 필요한 라이브러리를 불러옵니다.\n",
        "import numpy as np\n",
        "import tensorflow as tf"
      ],
      "execution_count": 3,
      "outputs": []
    },
    {
      "cell_type": "code",
      "metadata": {
        "id": "el8RgXYCnMjS",
        "colab_type": "code",
        "colab": {}
      },
      "source": [
        "# 실행할 때마다 같은 결과를 출력하기 위해 설정하는 부분입니다.\n",
        "seed = 0\n",
        "np.random.seed(seed)\n",
        "tf.random.set_seed(seed)"
      ],
      "execution_count": 4,
      "outputs": []
    },
    {
      "cell_type": "code",
      "metadata": {
        "id": "hLHgahoLnedp",
        "colab_type": "code",
        "colab": {}
      },
      "source": [
        "Data_set = np.loadtxt(\"/content/drive/My Drive/data/ThoraricSurgery.csv\", delimiter=\",\")"
      ],
      "execution_count": 5,
      "outputs": []
    },
    {
      "cell_type": "markdown",
      "metadata": {
        "id": "14mayotkFwvK",
        "colab_type": "text"
      },
      "source": [
        "<h2> 데이터 설명 <br> </h2>\n",
        "폴란드의 브로츠와프 의과대학에서 2013년에 공개한 폐암 수술 환자의 수술 전 진단 데이터와 수술 후 생존 결과를 기록한 실제 의료 기록 데이터\n",
        "18개 항목 470라인 \n",
        "속성(attribute) 1-17번째 항목 : 종양의 유형, 폐활량, 호흡 곤란 여부, 고통 정도, 기침, 흡연, 천식 여부 등 17가지의 환자 상태\n",
        "클래스(class) 18번째 항목       : 1 또는 0 , 1은 수술 후 생존, 0은 수술 후 사망"
      ]
    },
    {
      "cell_type": "code",
      "metadata": {
        "id": "Xf01jzG3oygo",
        "colab_type": "code",
        "colab": {}
      },
      "source": [
        " # 환자의 기록과 수술 결과를 X와 Y로 구분하여 저장합니다.\n",
        "X = Data_set[:,0:17]\n",
        "Y = Data_set[:,17]"
      ],
      "execution_count": 6,
      "outputs": []
    },
    {
      "cell_type": "code",
      "metadata": {
        "id": "gmxzbakHo0XA",
        "colab_type": "code",
        "colab": {}
      },
      "source": [
        "# 입력층, 은닉층, 출력층\n",
        "model = Sequential()\n",
        "model.add(Dense(30,input_dim=17, activation='relu')) # 첫번째 Dense : input_dim(17개 속성)을 적어줌으로써 은닉층 + 입력층 역할\n",
        "model.add(Dense(1,activation='sigmoid'))             # 마지막 Dense : 결과를 출력하는 츨력층 (출력값 1개)"
      ],
      "execution_count": 7,
      "outputs": []
    },
    {
      "cell_type": "code",
      "metadata": {
        "id": "IcG60xn4_-ae",
        "colab_type": "code",
        "colab": {
          "base_uri": "https://localhost:8080/",
          "height": 216
        },
        "outputId": "d7823fc5-7f66-4bc3-e2ce-f1cb9c0b3470"
      },
      "source": [
        "# 생성된 모델 정보\n",
        "# 파라미터 개수는 dense 마다 (가중치 + 바이어스) * 노드수 \n",
        "# 첫번째 Dense : (17 + 1) * 30 = 540 \n",
        "# 마지막 Dense : (30 + 1) * 1 = 31\n",
        "model.summary()"
      ],
      "execution_count": 8,
      "outputs": [
        {
          "output_type": "stream",
          "text": [
            "Model: \"sequential\"\n",
            "_________________________________________________________________\n",
            "Layer (type)                 Output Shape              Param #   \n",
            "=================================================================\n",
            "dense (Dense)                (None, 30)                540       \n",
            "_________________________________________________________________\n",
            "dense_1 (Dense)              (None, 1)                 31        \n",
            "=================================================================\n",
            "Total params: 571\n",
            "Trainable params: 571\n",
            "Non-trainable params: 0\n",
            "_________________________________________________________________\n"
          ],
          "name": "stdout"
        }
      ]
    },
    {
      "cell_type": "markdown",
      "metadata": {
        "id": "9JcaCIGX5gTd",
        "colab_type": "text"
      },
      "source": [
        "![python image2](https://thebook.io/img/080228/131.jpg)"
      ]
    },
    {
      "cell_type": "markdown",
      "metadata": {
        "id": "NeDfJiQM4kff",
        "colab_type": "text"
      },
      "source": [
        "![python image2](https://thebook.io/img/080228/133.jpg)"
      ]
    },
    {
      "cell_type": "code",
      "metadata": {
        "id": "kB1Id8PqpgB4",
        "colab_type": "code",
        "colab": {
          "base_uri": "https://localhost:8080/",
          "height": 1000
        },
        "outputId": "c044b259-d54c-4401-f7b2-d5fd6e810703"
      },
      "source": [
        "# 딥러닝을 실행합니다.\n",
        "model.compile(loss='mean_squared_error', optimizer='adam', metrics=['accuracy'])\n",
        "model.fit(X,Y,epochs=30,batch_size=10)"
      ],
      "execution_count": 9,
      "outputs": [
        {
          "output_type": "stream",
          "text": [
            "Epoch 1/30\n",
            "47/47 [==============================] - 0s 918us/step - loss: 0.4078 - accuracy: 0.5702\n",
            "Epoch 2/30\n",
            "47/47 [==============================] - 0s 906us/step - loss: 0.1488 - accuracy: 0.8511\n",
            "Epoch 3/30\n",
            "47/47 [==============================] - 0s 883us/step - loss: 0.1488 - accuracy: 0.8511\n",
            "Epoch 4/30\n",
            "47/47 [==============================] - 0s 940us/step - loss: 0.1488 - accuracy: 0.8511\n",
            "Epoch 5/30\n",
            "47/47 [==============================] - 0s 988us/step - loss: 0.1488 - accuracy: 0.8511\n",
            "Epoch 6/30\n",
            "47/47 [==============================] - 0s 1ms/step - loss: 0.1487 - accuracy: 0.8511\n",
            "Epoch 7/30\n",
            "47/47 [==============================] - 0s 937us/step - loss: 0.1487 - accuracy: 0.8511\n",
            "Epoch 8/30\n",
            "47/47 [==============================] - 0s 939us/step - loss: 0.1485 - accuracy: 0.8511\n",
            "Epoch 9/30\n",
            "47/47 [==============================] - 0s 901us/step - loss: 0.1482 - accuracy: 0.8511\n",
            "Epoch 10/30\n",
            "47/47 [==============================] - 0s 948us/step - loss: 0.1471 - accuracy: 0.8511\n",
            "Epoch 11/30\n",
            "47/47 [==============================] - 0s 982us/step - loss: 0.1480 - accuracy: 0.8511\n",
            "Epoch 12/30\n",
            "47/47 [==============================] - 0s 889us/step - loss: 0.1470 - accuracy: 0.8511\n",
            "Epoch 13/30\n",
            "47/47 [==============================] - 0s 967us/step - loss: 0.1476 - accuracy: 0.8511\n",
            "Epoch 14/30\n",
            "47/47 [==============================] - 0s 987us/step - loss: 0.1464 - accuracy: 0.8489\n",
            "Epoch 15/30\n",
            "47/47 [==============================] - 0s 912us/step - loss: 0.1455 - accuracy: 0.8511\n",
            "Epoch 16/30\n",
            "47/47 [==============================] - 0s 988us/step - loss: 0.1470 - accuracy: 0.8489\n",
            "Epoch 17/30\n",
            "47/47 [==============================] - 0s 1ms/step - loss: 0.1457 - accuracy: 0.8532\n",
            "Epoch 18/30\n",
            "47/47 [==============================] - 0s 922us/step - loss: 0.1449 - accuracy: 0.8511\n",
            "Epoch 19/30\n",
            "47/47 [==============================] - 0s 955us/step - loss: 0.1457 - accuracy: 0.8489\n",
            "Epoch 20/30\n",
            "47/47 [==============================] - 0s 957us/step - loss: 0.1453 - accuracy: 0.8511\n",
            "Epoch 21/30\n",
            "47/47 [==============================] - 0s 985us/step - loss: 0.1444 - accuracy: 0.8532\n",
            "Epoch 22/30\n",
            "47/47 [==============================] - 0s 995us/step - loss: 0.1441 - accuracy: 0.8532\n",
            "Epoch 23/30\n",
            "47/47 [==============================] - 0s 1ms/step - loss: 0.1454 - accuracy: 0.8532\n",
            "Epoch 24/30\n",
            "47/47 [==============================] - 0s 962us/step - loss: 0.1457 - accuracy: 0.8511\n",
            "Epoch 25/30\n",
            "47/47 [==============================] - 0s 901us/step - loss: 0.1432 - accuracy: 0.8489\n",
            "Epoch 26/30\n",
            "47/47 [==============================] - 0s 956us/step - loss: 0.1451 - accuracy: 0.8532\n",
            "Epoch 27/30\n",
            "47/47 [==============================] - 0s 1ms/step - loss: 0.1441 - accuracy: 0.8553\n",
            "Epoch 28/30\n",
            "47/47 [==============================] - 0s 900us/step - loss: 0.1423 - accuracy: 0.8532\n",
            "Epoch 29/30\n",
            "47/47 [==============================] - 0s 925us/step - loss: 0.1446 - accuracy: 0.8532\n",
            "Epoch 30/30\n",
            "47/47 [==============================] - 0s 913us/step - loss: 0.1470 - accuracy: 0.8511\n"
          ],
          "name": "stdout"
        },
        {
          "output_type": "execute_result",
          "data": {
            "text/plain": [
              "<tensorflow.python.keras.callbacks.History at 0x7f78d9b85c50>"
            ]
          },
          "metadata": {
            "tags": []
          },
          "execution_count": 9
        }
      ]
    },
    {
      "cell_type": "code",
      "metadata": {
        "id": "K9HHBFELp-bf",
        "colab_type": "code",
        "colab": {
          "base_uri": "https://localhost:8080/",
          "height": 66
        },
        "outputId": "88958089-366d-4ce4-f63c-0fe32c5f2848"
      },
      "source": [
        "# 결과를 출력합니다.\n",
        "print(\"\\n Accuracy: %4f\" % (model.evaluate(X,Y)[1]))"
      ],
      "execution_count": 10,
      "outputs": [
        {
          "output_type": "stream",
          "text": [
            "15/15 [==============================] - 0s 1ms/step - loss: 0.1455 - accuracy: 0.8511\n",
            "\n",
            " Accuracy: 0.851064\n"
          ],
          "name": "stdout"
        }
      ]
    },
    {
      "cell_type": "markdown",
      "metadata": {
        "id": "0PXu6zS96tSS",
        "colab_type": "text"
      },
      "source": [
        "<h2> 대표적인 오차함수 </h2>\n",
        "<h3>* 평균 제곱 계열 </h3>\n",
        "\n",
        "mean_squared_error <br>\n",
        "평균 제곱 오차\n",
        "계산: mean(square(yt - yo))\n",
        "\n",
        "mean_absolute_error <br>\n",
        "평균 절대 오차(실제 값과 예측 값 차이의 절댓값 평균)\n",
        "계산: mean(abs(yt - yo))\n",
        "\n",
        "mean_absolute_percentage_error <br>\n",
        "평균 절대 백분율 오차(절댓값 오차를 절댓값으로 나눈 후 평균)\n",
        "계산: mean(abs(yt - yo)/abs(yt)) (단, 분모 ≠ 0)\n",
        "\n",
        "mean_squared_logarithmic_error <br>\n",
        "평균 제곱 로그 오차(실제 값과 예측 값에 로그를 적용한 값의 차이를 제곱한 값의 평균)\n",
        "계산: mean(square((log(yo) + 1) - (log(yt) + 1)))\n",
        "\n",
        "<h3>*교차 엔트로피 계열</h3>\n",
        "\n",
        "categorical_crossentropy <br>\n",
        "범주형 교차 엔트로피(일반적인 분류)\n",
        "\n",
        "binary_crossentropy <br>\n",
        "이항 교차 엔트로피(두 개의 클래스 중에서 예측할 때)"
      ]
    },
    {
      "cell_type": "code",
      "metadata": {
        "id": "uAQe-6HV7Znt",
        "colab_type": "code",
        "colab": {}
      },
      "source": [
        "import numpy as np\n",
        "yt = 10\n",
        "yo = 7"
      ],
      "execution_count": 11,
      "outputs": []
    },
    {
      "cell_type": "code",
      "metadata": {
        "id": "q3s0SyLJ9vm1",
        "colab_type": "code",
        "colab": {}
      },
      "source": [
        "mean_squared_error = np.mean(np.square(yt - yo))\n",
        "mean_absolute_error = np.mean(np.abs(yt - yo))\n",
        "mean_absolute_percentage_error = np.mean(np.abs(yt - yo)/np.abs(yt))\n",
        "mean_squared_logarithmic_error = np.mean(np.square((np.log(yo) + 1) - (np.log(yt) + 1)))"
      ],
      "execution_count": 12,
      "outputs": []
    },
    {
      "cell_type": "code",
      "metadata": {
        "id": "5nFBCTrT91uN",
        "colab_type": "code",
        "colab": {
          "base_uri": "https://localhost:8080/",
          "height": 83
        },
        "outputId": "56dd81ad-e74e-400c-f274-f02bc323a9c0"
      },
      "source": [
        "print(mean_squared_error)\n",
        "print(mean_absolute_error)\n",
        "print(mean_absolute_percentage_error)\n",
        "print(mean_squared_logarithmic_error)"
      ],
      "execution_count": 13,
      "outputs": [
        {
          "output_type": "stream",
          "text": [
            "9.0\n",
            "3.0\n",
            "0.3\n",
            "0.12721701563369794\n"
          ],
          "name": "stdout"
        }
      ]
    }
  ]
}