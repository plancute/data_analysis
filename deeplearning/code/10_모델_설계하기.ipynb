{
  "nbformat": 4,
  "nbformat_minor": 0,
  "metadata": {
    "colab": {
      "name": "10_모델 설계하기.ipynb",
      "provenance": [],
      "mount_file_id": "1aynvEPKqJUAk-ar1EbJO1n_larTGlqEI",
      "authorship_tag": "ABX9TyN5w1bDTtnu1aGHI90cqIa8",
      "include_colab_link": true
    },
    "kernelspec": {
      "name": "python3",
      "display_name": "Python 3"
    }
  },
  "cells": [
    {
      "cell_type": "markdown",
      "metadata": {
        "id": "view-in-github",
        "colab_type": "text"
      },
      "source": [
        "<a href=\"https://colab.research.google.com/github/plancute/python/blob/master/deeplearning/code/10_%EB%AA%A8%EB%8D%B8_%EC%84%A4%EA%B3%84%ED%95%98%EA%B8%B0.ipynb\" target=\"_parent\"><img src=\"https://colab.research.google.com/assets/colab-badge.svg\" alt=\"Open In Colab\"/></a>"
      ]
    },
    {
      "cell_type": "markdown",
      "metadata": {
        "id": "bSwK0EX38CXq",
        "colab_type": "text"
      },
      "source": [
        "10장 모델 설계하기"
      ]
    },
    {
      "cell_type": "code",
      "metadata": {
        "id": "kYgycuqOkRsK",
        "colab_type": "code",
        "colab": {}
      },
      "source": [
        "# -*- coding: utf-8 -*-\n",
        "# 코드 내부에 한글을 사용가능 하게 해주는 부분입니다."
      ],
      "execution_count": 1,
      "outputs": []
    },
    {
      "cell_type": "code",
      "metadata": {
        "id": "_hEvaQ7umgpn",
        "colab_type": "code",
        "colab": {}
      },
      "source": [
        "# 딥러닝을 구동하는 데 필요한 케라스 함수를 불러옵니다.\n",
        "from keras.models import Sequential\n",
        "from keras.layers import Dense"
      ],
      "execution_count": 2,
      "outputs": []
    },
    {
      "cell_type": "code",
      "metadata": {
        "id": "1RiTO1a9nBRT",
        "colab_type": "code",
        "colab": {}
      },
      "source": [
        "# 필요한 라이브러리를 불러옵니다.\n",
        "import numpy as np\n",
        "import tensorflow as tf"
      ],
      "execution_count": 3,
      "outputs": []
    },
    {
      "cell_type": "code",
      "metadata": {
        "id": "el8RgXYCnMjS",
        "colab_type": "code",
        "colab": {}
      },
      "source": [
        "# 실행할 때마다 같은 결과를 출력하기 위해 설정하는 부분입니다.\n",
        "seed = 0\n",
        "np.random.seed(seed)\n",
        "tf.random.set_seed(seed)"
      ],
      "execution_count": 4,
      "outputs": []
    },
    {
      "cell_type": "code",
      "metadata": {
        "id": "hLHgahoLnedp",
        "colab_type": "code",
        "colab": {}
      },
      "source": [
        "Data_set = np.loadtxt(\"/content/drive/My Drive/data/ThoraricSurgery.csv\", delimiter=\",\")\n"
      ],
      "execution_count": 5,
      "outputs": []
    },
    {
      "cell_type": "code",
      "metadata": {
        "id": "1uHw8_b0omKA",
        "colab_type": "code",
        "colab": {
          "base_uri": "https://localhost:8080/",
          "height": 53
        },
        "outputId": "5ac632b0-223e-412c-a369-a4e7d71e3bb9"
      },
      "source": [
        "'''\n",
        "데이터 설명\n",
        "폴란드의 브로츠와프 의과대학에서 2013년에 공개한 폐암 수술 환자의 수술 전 진단 데이터와 수술 후 생존 결과를 기록한 실제 의료 기록 데이터\n",
        "18개 항목 470라인 \n",
        "속성(attribute) 1-17번째 항목 : 종양의 유형, 폐활량, 호흡 곤란 여부, 고통 정도, 기침, 흡연, 천식 여부 등 17가지의 환자 상태\n",
        "클래스(class) 18번째 항목       : 1 또는 0 , 1은 수술 후 생존, 0은 수술 후 사망\n",
        "'''"
      ],
      "execution_count": 6,
      "outputs": [
        {
          "output_type": "execute_result",
          "data": {
            "application/vnd.google.colaboratory.intrinsic+json": {
              "type": "string"
            },
            "text/plain": [
              "'\\n데이터 설명\\n폴란드의 브로츠와프 의과대학에서 2013년에 공개한 폐암 수술 환자의 수술 전 진단 데이터와 수술 후 생존 결과를 기록한 실제 의료 기록 데이터\\n18개 항목 470라인 \\n속성(attribute) 1-17번째 항목 : 종양의 유형, 폐활량, 호흡 곤란 여부, 고통 정도, 기침, 흡연, 천식 여부 등 17가지의 환자 상태\\n클래스(class) 18번째 항목       : 1 또는 0 , 1은 수술 후 생존, 0은 수술 후 사망\\n'"
            ]
          },
          "metadata": {
            "tags": []
          },
          "execution_count": 6
        }
      ]
    },
    {
      "cell_type": "code",
      "metadata": {
        "id": "Xf01jzG3oygo",
        "colab_type": "code",
        "colab": {}
      },
      "source": [
        " # 환자의 기록과 수술 결과를 X와 Y로 구분하여 저장합니다.\n",
        "X = Data_set[:,0:17]\n",
        "Y = Data_set[:,17]"
      ],
      "execution_count": 7,
      "outputs": []
    },
    {
      "cell_type": "code",
      "metadata": {
        "id": "gmxzbakHo0XA",
        "colab_type": "code",
        "colab": {}
      },
      "source": [
        "model = Sequential()\n",
        "model.add(Dense(10,input_dim=17, activation='relu'))\n",
        "model.add(Dense(1,activation='sigmoid'))"
      ],
      "execution_count": 8,
      "outputs": []
    },
    {
      "cell_type": "markdown",
      "metadata": {
        "id": "9JcaCIGX5gTd",
        "colab_type": "text"
      },
      "source": [
        "![python image2](https://thebook.io/img/080228/131.jpg)"
      ]
    },
    {
      "cell_type": "markdown",
      "metadata": {
        "id": "NeDfJiQM4kff",
        "colab_type": "text"
      },
      "source": [
        "![python image2](https://thebook.io/img/080228/133.jpg)"
      ]
    },
    {
      "cell_type": "code",
      "metadata": {
        "id": "kB1Id8PqpgB4",
        "colab_type": "code",
        "colab": {
          "base_uri": "https://localhost:8080/",
          "height": 1000
        },
        "outputId": "1dbf4fa1-6337-4314-c050-5cebd34f6879"
      },
      "source": [
        "# 딥러닝을 실행합니다.\n",
        "model.compile(loss='mean_squared_error', optimizer='adam', metrics=['accuracy'])\n",
        "model.fit(X,Y,epochs=30,batch_size=10)"
      ],
      "execution_count": 9,
      "outputs": [
        {
          "output_type": "stream",
          "text": [
            "Epoch 1/30\n",
            "47/47 [==============================] - 0s 861us/step - loss: 0.7848 - accuracy: 0.2064\n",
            "Epoch 2/30\n",
            "47/47 [==============================] - 0s 896us/step - loss: 0.7003 - accuracy: 0.2851\n",
            "Epoch 3/30\n",
            "47/47 [==============================] - 0s 926us/step - loss: 0.2727 - accuracy: 0.7128\n",
            "Epoch 4/30\n",
            "47/47 [==============================] - 0s 914us/step - loss: 0.1504 - accuracy: 0.8489\n",
            "Epoch 5/30\n",
            "47/47 [==============================] - 0s 956us/step - loss: 0.1490 - accuracy: 0.8511\n",
            "Epoch 6/30\n",
            "47/47 [==============================] - 0s 992us/step - loss: 0.1490 - accuracy: 0.8511\n",
            "Epoch 7/30\n",
            "47/47 [==============================] - 0s 1ms/step - loss: 0.1489 - accuracy: 0.8511\n",
            "Epoch 8/30\n",
            "47/47 [==============================] - 0s 1ms/step - loss: 0.1489 - accuracy: 0.8511\n",
            "Epoch 9/30\n",
            "47/47 [==============================] - 0s 969us/step - loss: 0.1489 - accuracy: 0.8511\n",
            "Epoch 10/30\n",
            "47/47 [==============================] - 0s 956us/step - loss: 0.1489 - accuracy: 0.8511\n",
            "Epoch 11/30\n",
            "47/47 [==============================] - 0s 916us/step - loss: 0.1489 - accuracy: 0.8511\n",
            "Epoch 12/30\n",
            "47/47 [==============================] - 0s 945us/step - loss: 0.1489 - accuracy: 0.8511\n",
            "Epoch 13/30\n",
            "47/47 [==============================] - 0s 1ms/step - loss: 0.1489 - accuracy: 0.8511\n",
            "Epoch 14/30\n",
            "47/47 [==============================] - 0s 977us/step - loss: 0.1489 - accuracy: 0.8511\n",
            "Epoch 15/30\n",
            "47/47 [==============================] - 0s 881us/step - loss: 0.1489 - accuracy: 0.8511\n",
            "Epoch 16/30\n",
            "47/47 [==============================] - 0s 968us/step - loss: 0.1489 - accuracy: 0.8511\n",
            "Epoch 17/30\n",
            "47/47 [==============================] - 0s 989us/step - loss: 0.1489 - accuracy: 0.8511\n",
            "Epoch 18/30\n",
            "47/47 [==============================] - 0s 937us/step - loss: 0.1489 - accuracy: 0.8511\n",
            "Epoch 19/30\n",
            "47/47 [==============================] - 0s 982us/step - loss: 0.1489 - accuracy: 0.8511\n",
            "Epoch 20/30\n",
            "47/47 [==============================] - 0s 919us/step - loss: 0.1489 - accuracy: 0.8511\n",
            "Epoch 21/30\n",
            "47/47 [==============================] - 0s 985us/step - loss: 0.1489 - accuracy: 0.8511\n",
            "Epoch 22/30\n",
            "47/47 [==============================] - 0s 964us/step - loss: 0.1489 - accuracy: 0.8511\n",
            "Epoch 23/30\n",
            "47/47 [==============================] - 0s 939us/step - loss: 0.1489 - accuracy: 0.8511\n",
            "Epoch 24/30\n",
            "47/47 [==============================] - 0s 996us/step - loss: 0.1489 - accuracy: 0.8511\n",
            "Epoch 25/30\n",
            "47/47 [==============================] - 0s 1ms/step - loss: 0.1489 - accuracy: 0.8511\n",
            "Epoch 26/30\n",
            "47/47 [==============================] - 0s 1ms/step - loss: 0.1489 - accuracy: 0.8511\n",
            "Epoch 27/30\n",
            "47/47 [==============================] - 0s 926us/step - loss: 0.1489 - accuracy: 0.8511\n",
            "Epoch 28/30\n",
            "47/47 [==============================] - 0s 924us/step - loss: 0.1489 - accuracy: 0.8511\n",
            "Epoch 29/30\n",
            "47/47 [==============================] - 0s 911us/step - loss: 0.1489 - accuracy: 0.8511\n",
            "Epoch 30/30\n",
            "47/47 [==============================] - 0s 889us/step - loss: 0.1489 - accuracy: 0.8511\n"
          ],
          "name": "stdout"
        },
        {
          "output_type": "execute_result",
          "data": {
            "text/plain": [
              "<tensorflow.python.keras.callbacks.History at 0x7fdb72b3f748>"
            ]
          },
          "metadata": {
            "tags": []
          },
          "execution_count": 9
        }
      ]
    },
    {
      "cell_type": "code",
      "metadata": {
        "id": "K9HHBFELp-bf",
        "colab_type": "code",
        "colab": {
          "base_uri": "https://localhost:8080/",
          "height": 71
        },
        "outputId": "a5328324-82f2-44a5-a9a1-5c86c03863f4"
      },
      "source": [
        "# 결과를 출력합니다.\n",
        "print(\"\\n Accuracy: %4f\" % (model.evaluate(X,Y)[1]))"
      ],
      "execution_count": 10,
      "outputs": [
        {
          "output_type": "stream",
          "text": [
            "15/15 [==============================] - 0s 983us/step - loss: 0.1489 - accuracy: 0.8511\n",
            "\n",
            " Accuracy: 0.851064\n"
          ],
          "name": "stdout"
        }
      ]
    },
    {
      "cell_type": "markdown",
      "metadata": {
        "id": "0PXu6zS96tSS",
        "colab_type": "text"
      },
      "source": [
        "<h2> 대표적인 오차함수 </h2>\n",
        "<h3>* 평균 제곱 계열 </h3>\n",
        "\n",
        "mean_squared_error <br>\n",
        "평균 제곱 오차\n",
        "계산: mean(square(yt - yo))\n",
        "\n",
        "mean_absolute_error <br>\n",
        "평균 절대 오차(실제 값과 예측 값 차이의 절댓값 평균)\n",
        "계산: mean(abs(yt - yo))\n",
        "\n",
        "mean_absolute_percentage_error <br>\n",
        "평균 절대 백분율 오차(절댓값 오차를 절댓값으로 나눈 후 평균)\n",
        "계산: mean(abs(yt - yo)/abs(yt) (단, 분모 ≠ 0)\n",
        "\n",
        "mean_squared_logarithmic_error <br>\n",
        "평균 제곱 로그 오차(실제 값과 예측 값에 로그를 적용한 값의 차이를 제곱한 값의 평균)\n",
        "계산: mean(square((log(yo) + 1) - (log(yt) + 1)))\n",
        "\n",
        "<h3>*교차 엔트로피 계열</h3>\n",
        "\n",
        "categorical_crossentropy <br>\n",
        "범주형 교차 엔트로피(일반적인 분류)\n",
        "\n",
        "binary_crossentropy <br>\n",
        "이항 교차 엔트로피(두 개의 클래스 중에서 예측할 때)"
      ]
    },
    {
      "cell_type": "code",
      "metadata": {
        "id": "uAQe-6HV7Znt",
        "colab_type": "code",
        "colab": {}
      },
      "source": [
        ""
      ],
      "execution_count": 10,
      "outputs": []
    }
  ]
}