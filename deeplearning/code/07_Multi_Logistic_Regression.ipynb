{
  "nbformat": 4,
  "nbformat_minor": 0,
  "metadata": {
    "colab": {
      "name": "200902_7_Multi_Logistic Regression.ipynb의 사본",
      "provenance": [],
      "collapsed_sections": [],
      "authorship_tag": "ABX9TyPTvIQLfQbdJfU+3TUvl6r+",
      "include_colab_link": true
    },
    "kernelspec": {
      "name": "python3",
      "display_name": "Python 3"
    }
  },
  "cells": [
    {
      "cell_type": "markdown",
      "metadata": {
        "id": "view-in-github",
        "colab_type": "text"
      },
      "source": [
        "<a href=\"https://colab.research.google.com/github/plancute/python/blob/master/deeplearning/code/07_Multi_Logistic_Regression.ipynb\" target=\"_parent\"><img src=\"https://colab.research.google.com/assets/colab-badge.svg\" alt=\"Open In Colab\"/></a>"
      ]
    },
    {
      "cell_type": "markdown",
      "metadata": {
        "id": "eS2IoDLYJt-J",
        "colab_type": "text"
      },
      "source": [
        "5장 참 거짓 판단장치 : 로지스틱 회귀 (89-94p, part_2)"
      ]
    },
    {
      "cell_type": "markdown",
      "metadata": {
        "id": "b5yjBc4GOnvL",
        "colab_type": "text"
      },
      "source": [
        "5-6. 여러 입력값을 갖는 로지스틱 회귀"
      ]
    },
    {
      "cell_type": "markdown",
      "metadata": {
        "id": "K8eUD4wjOuix",
        "colab_type": "text"
      },
      "source": [
        "플레이스홀더 : 입력값을 저장하는 일종의 그릇 <br>\n",
        "tf.placeholder('데이터형','행렬의 차원','이름') 형태로 사용"
      ]
    },
    {
      "cell_type": "code",
      "metadata": {
        "id": "Ih33oMr2zGYY",
        "colab_type": "code",
        "colab": {
          "base_uri": "https://localhost:8080/",
          "height": 92
        },
        "outputId": "1983df76-c96f-40e2-dc94-201cc9510c98"
      },
      "source": [
        "#-*- coding: utf-8 -*-\n",
        "import numpy as np\n",
        "import tensorflow.compat.v1 as tf\n",
        "tf.disable_v2_behavior()"
      ],
      "execution_count": null,
      "outputs": [
        {
          "output_type": "stream",
          "text": [
            "WARNING:tensorflow:From /usr/local/lib/python3.6/dist-packages/tensorflow/python/compat/v2_compat.py:96: disable_resource_variables (from tensorflow.python.ops.variable_scope) is deprecated and will be removed in a future version.\n",
            "Instructions for updating:\n",
            "non-resource variables are not supported in the long term\n"
          ],
          "name": "stdout"
        }
      ]
    },
    {
      "cell_type": "code",
      "metadata": {
        "id": "H-LJ7sN28seB",
        "colab_type": "code",
        "colab": {}
      },
      "source": [
        "# 실행할 때마다 같은 결과를 출력하기 위한 seed 값 설정\n",
        "seed = 0\n",
        "np.random.seed(seed)\n",
        "tf.set_random_seed(seed)"
      ],
      "execution_count": null,
      "outputs": []
    },
    {
      "cell_type": "code",
      "metadata": {
        "id": "ua03gozv1Hz1",
        "colab_type": "code",
        "colab": {}
      },
      "source": [
        "# x,y의 데이터 값\n",
        "x_data = np.array([[2, 3],[4, 3],[6, 4],[8, 6],[10, 7],[12, 8],[14, 9]])\n",
        "y_data = np.array([0, 0, 0, 1, 1, 1, 1]).reshape(7, 1)"
      ],
      "execution_count": null,
      "outputs": []
    },
    {
      "cell_type": "code",
      "metadata": {
        "id": "XIbnkaIP1Qfx",
        "colab_type": "code",
        "colab": {}
      },
      "source": [
        "# 입력 값을 플래이스 홀더에 저장\n",
        "X = tf.placeholder(tf.float64, shape=[None, 2])\n",
        "Y = tf.placeholder(tf.float64, shape=[None, 1])"
      ],
      "execution_count": null,
      "outputs": []
    },
    {
      "cell_type": "code",
      "metadata": {
        "id": "Gf-5oKI_1kl5",
        "colab_type": "code",
        "colab": {}
      },
      "source": [
        "# 기울기 a와 bias b의 값을 임의로 정함. \n",
        "# [2,1] 의미: 들어오는 값은 2개, 나가는 값은 1개\n",
        "a = tf.Variable(tf.random_uniform([2,1], dtype=tf.float64)) \n",
        "b = tf.Variable(tf.random_uniform([1], dtype=tf.float64))"
      ],
      "execution_count": null,
      "outputs": []
    },
    {
      "cell_type": "code",
      "metadata": {
        "id": "YYMNUZKw18_E",
        "colab_type": "code",
        "colab": {}
      },
      "source": [
        "# y 시그모이드 함수의 방정식을 세움 (matmul : 행렬곱 (a1x1 + a2x2) --> [a1,a2] * [x1,x2] )\n",
        "y = tf.sigmoid(tf.matmul(X, a) + b)"
      ],
      "execution_count": null,
      "outputs": []
    },
    {
      "cell_type": "code",
      "metadata": {
        "id": "PuKOICqR2LIj",
        "colab_type": "code",
        "colab": {}
      },
      "source": [
        "# 오차를 구하는 함수 (Y : 실제값, y : 예측값)\n",
        "loss = -tf.reduce_mean(Y * tf.log(y) + (1 - Y) * tf.log(1 - y))"
      ],
      "execution_count": null,
      "outputs": []
    },
    {
      "cell_type": "code",
      "metadata": {
        "id": "t9WV-ncg2S_x",
        "colab_type": "code",
        "colab": {}
      },
      "source": [
        "# 학습률 \n",
        "learning_rate = 0.1"
      ],
      "execution_count": null,
      "outputs": []
    },
    {
      "cell_type": "code",
      "metadata": {
        "id": "0zmpOxkl2hBQ",
        "colab_type": "code",
        "colab": {}
      },
      "source": [
        "# loss 값을 최소로 하는 값 찾기\n",
        "gradient_descent = tf.train.GradientDescentOptimizer(learning_rate).minimize(loss)"
      ],
      "execution_count": null,
      "outputs": []
    },
    {
      "cell_type": "code",
      "metadata": {
        "id": "NlEv4xr49OOe",
        "colab_type": "code",
        "colab": {}
      },
      "source": [
        "predicted = tf.cast(y > 0.5, dtype=tf.float64)\n",
        "accuracy = tf.reduce_mean(tf.cast(tf.equal(predicted, Y), dtype=tf.float64))\n"
      ],
      "execution_count": null,
      "outputs": []
    },
    {
      "cell_type": "code",
      "metadata": {
        "id": "Ijwtg0TF2q8I",
        "colab_type": "code",
        "colab": {
          "base_uri": "https://localhost:8080/",
          "height": 236
        },
        "outputId": "dc6f117e-07b6-42fc-f965-c459d72be988"
      },
      "source": [
        "# 학습\n",
        "with tf.Session() as sess:\n",
        "    sess.run(tf.global_variables_initializer())\n",
        "\n",
        "    for i in range(3001):\n",
        "        a_, b_, loss_, _ = sess.run([a, b, loss, gradient_descent], feed_dict={X: x_data, Y: y_data})\n",
        "        if (i + 1) % 300 == 0:\n",
        "            print(\"step=%d, a1=%.4f, a2=%.4f, b=%.4f, loss=%.4f\" % (i + 1, a_[0], a_[1], b_, loss_))\n",
        "\n",
        "    # 어떻게 활용하는가\n",
        "    new_x = np.array([7, 6.]).reshape(1, 2)  #[7, 6]은 각각 공부 시간과 과외 수업수.\n",
        "    new_y = sess.run(y, feed_dict={X: new_x})\n",
        "\n",
        "    print(\"공부 시간: %d, 개인 과외 수: %d\" % (new_x[:,0], new_x[:,1]))\n",
        "    print(\"합격 가능성: %6.2f %%\" % (new_y*100))\n",
        "\n"
      ],
      "execution_count": null,
      "outputs": [
        {
          "output_type": "stream",
          "text": [
            "step=300, a1=0.7584, a2=-0.4500, b=-2.5621, loss=0.2587\n",
            "step=600, a1=0.7741, a2=-0.2051, b=-4.0029, loss=0.1863\n",
            "step=900, a1=0.6955, a2=0.1030, b=-5.0471, loss=0.1463\n",
            "step=1200, a1=0.6003, a2=0.3952, b=-5.8751, loss=0.1202\n",
            "step=1500, a1=0.5077, a2=0.6577, b=-6.5631, loss=0.1018\n",
            "step=1800, a1=0.4230, a2=0.8905, b=-7.1524, loss=0.0881\n",
            "step=2100, a1=0.3472, a2=1.0970, b=-7.6681, loss=0.0776\n",
            "step=2400, a1=0.2797, a2=1.2809, b=-8.1266, loss=0.0693\n",
            "step=2700, a1=0.2196, a2=1.4457, b=-8.5395, loss=0.0626\n",
            "step=3000, a1=0.1660, a2=1.5943, b=-8.9151, loss=0.0571\n",
            "공부 시간: 7, 개인 과외 수: 6\n",
            "합격 가능성:  85.97 %\n"
          ],
          "name": "stdout"
        }
      ]
    },
    {
      "cell_type": "markdown",
      "metadata": {
        "id": "zLsYOAVqSRJM",
        "colab_type": "text"
      },
      "source": [
        "5-7. 실제값 적용하기 <br>\n",
        "공부 시간: 7시간, 개인 과외 수: 6번 일때,\n",
        "합격 가능성은?  85.97 %"
      ]
    },
    {
      "cell_type": "markdown",
      "metadata": {
        "id": "zp3eA_QHTxaQ",
        "colab_type": "text"
      },
      "source": [
        "5-8. 로지스틱 회귀에서 퍼셉트론으로 <br>\n",
        "1957년 코넬 항공 연구소의 프랑크 로젠블라트 고안 및 발표 <br>\n",
        "인공신경망, 오차역전파, 딥러닝의 기초"
      ]
    },
    {
      "cell_type": "code",
      "metadata": {
        "id": "2xQahH4wT1ac",
        "colab_type": "code",
        "colab": {}
      },
      "source": [
        ""
      ],
      "execution_count": null,
      "outputs": []
    }
  ]
}