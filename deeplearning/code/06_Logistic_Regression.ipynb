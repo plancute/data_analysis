{
  "nbformat": 4,
  "nbformat_minor": 0,
  "metadata": {
    "colab": {
      "name": "2008902_6_Logistic Regression.ipynb",
      "provenance": [],
      "collapsed_sections": []
    },
    "kernelspec": {
      "name": "python3",
      "display_name": "Python 3"
    }
  },
  "cells": [
    {
      "cell_type": "code",
      "metadata": {
        "id": "Ih33oMr2zGYY",
        "colab_type": "code",
        "colab": {}
      },
      "source": [
        "#-*- coding: utf-8 -*-\n",
        "import numpy as np\n",
        "import tensorflow.compat.v1 as tf\n",
        "tf.disable_v2_behavior()"
      ],
      "execution_count": 9,
      "outputs": []
    },
    {
      "cell_type": "code",
      "metadata": {
        "id": "ua03gozv1Hz1",
        "colab_type": "code",
        "colab": {}
      },
      "source": [
        "data = [[2, 0], [4, 0], [6, 0], [8, 1], [10, 1], [12, 1], [14, 1]]"
      ],
      "execution_count": 2,
      "outputs": []
    },
    {
      "cell_type": "code",
      "metadata": {
        "id": "XIbnkaIP1Qfx",
        "colab_type": "code",
        "colab": {}
      },
      "source": [
        "x_data=[row[0] for row in data]\n",
        "y_data=[row[1] for row in data]"
      ],
      "execution_count": 3,
      "outputs": []
    },
    {
      "cell_type": "code",
      "metadata": {
        "id": "Gf-5oKI_1kl5",
        "colab_type": "code",
        "colab": {
          "base_uri": "https://localhost:8080/",
          "height": 37
        },
        "outputId": "cca78b9b-f6d4-4ffa-ef50-a9a5e3553a33"
      },
      "source": [
        "x_data"
      ],
      "execution_count": 5,
      "outputs": [
        {
          "output_type": "execute_result",
          "data": {
            "text/plain": [
              "[2, 4, 6, 8, 10, 12, 14]"
            ]
          },
          "metadata": {
            "tags": []
          },
          "execution_count": 5
        }
      ]
    },
    {
      "cell_type": "code",
      "metadata": {
        "id": "wUsQCFil1lLh",
        "colab_type": "code",
        "colab": {}
      },
      "source": [
        "# 기울기 a와 y절편 b의 값을 임의로 정함. \n",
        "a= tf.Variable(tf.random_uniform([1], dtype=tf.float64, seed=0))\n",
        "b= tf.Variable(tf.random_uniform([1], dtype=tf.float64, seed=0))"
      ],
      "execution_count": 6,
      "outputs": []
    },
    {
      "cell_type": "code",
      "metadata": {
        "id": "YYMNUZKw18_E",
        "colab_type": "code",
        "colab": {}
      },
      "source": [
        "# 시그모이드 함수의 방정식을 세움\n",
        "y = 1 / (1 + np.e**(a * x_data + b))"
      ],
      "execution_count": 10,
      "outputs": []
    },
    {
      "cell_type": "code",
      "metadata": {
        "id": "PuKOICqR2LIj",
        "colab_type": "code",
        "colab": {}
      },
      "source": [
        "# loss 를 구하는 함수\n",
        "loss = -tf.reduce_mean(np.array(y_data) * tf.log(y) + (1 - np.array(y_data)) * tf.log(1 - y))"
      ],
      "execution_count": 11,
      "outputs": []
    },
    {
      "cell_type": "code",
      "metadata": {
        "id": "t9WV-ncg2S_x",
        "colab_type": "code",
        "colab": {}
      },
      "source": [
        "learning_rate = 0.5"
      ],
      "execution_count": 12,
      "outputs": []
    },
    {
      "cell_type": "code",
      "metadata": {
        "id": "0zmpOxkl2hBQ",
        "colab_type": "code",
        "colab": {}
      },
      "source": [
        "# loss 값을 최소로 하는 값 찾기\n",
        "gradient_descent = tf.train.GradientDescentOptimizer(learning_rate).minimize(loss)"
      ],
      "execution_count": 13,
      "outputs": []
    },
    {
      "cell_type": "code",
      "metadata": {
        "id": "Ijwtg0TF2q8I",
        "colab_type": "code",
        "colab": {
          "base_uri": "https://localhost:8080/",
          "height": 230
        },
        "outputId": "92529b61-a1f4-4626-d26d-ad7f087c471e"
      },
      "source": [
        "# 학습이 진행되는 부분\n",
        "with tf.Session() as sess:\n",
        "  sess.run(tf.global_variables_initializer())\n",
        "  for step in range(60001):\n",
        "    sess.run(gradient_descent)\n",
        "    if step % 6000 == 0:\n",
        "      print(\"Epoch: %.f, loss = %.4f, 기울기 a = %.4f, 바이어스 b = %.4f\" % (step, sess.run(loss), sess.run(a), sess.run(b)))"
      ],
      "execution_count": 16,
      "outputs": [
        {
          "output_type": "stream",
          "text": [
            "Epoch: 0, loss = 3.7483, 기울기 a = -2.3173, 바이어스 b = 0.5286\n",
            "Epoch: 6000, loss = 0.0152, 기울기 a = -2.9232, 바이어스 b = 20.3131\n",
            "Epoch: 12000, loss = 0.0081, 기울기 a = -3.5649, 바이어스 b = 24.8090\n",
            "Epoch: 18000, loss = 0.0055, 기울기 a = -3.9565, 바이어스 b = 27.5518\n",
            "Epoch: 24000, loss = 0.0041, 기울기 a = -4.2386, 바이어스 b = 29.5272\n",
            "Epoch: 30000, loss = 0.0033, 기울기 a = -4.4591, 바이어스 b = 31.0709\n",
            "Epoch: 36000, loss = 0.0028, 기울기 a = -4.6400, 바이어스 b = 32.3374\n",
            "Epoch: 42000, loss = 0.0024, 기울기 a = -4.7933, 바이어스 b = 33.4110\n",
            "Epoch: 48000, loss = 0.0021, 기울기 a = -4.9264, 바이어스 b = 34.3427\n",
            "Epoch: 54000, loss = 0.0019, 기울기 a = -5.0439, 바이어스 b = 35.1655\n",
            "Epoch: 60000, loss = 0.0017, 기울기 a = -5.1491, 바이어스 b = 35.9021\n"
          ],
          "name": "stdout"
        }
      ]
    },
    {
      "cell_type": "code",
      "metadata": {
        "id": "4Hesp0Ee3AJw",
        "colab_type": "code",
        "colab": {}
      },
      "source": [
        ""
      ],
      "execution_count": null,
      "outputs": []
    }
  ]
}