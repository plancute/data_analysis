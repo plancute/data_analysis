{
  "nbformat": 4,
  "nbformat_minor": 0,
  "metadata": {
    "colab": {
      "name": "2008902_6_Logistic Regression.ipynb",
      "provenance": [],
      "collapsed_sections": [],
      "authorship_tag": "ABX9TyMROPm5pnxyS0YlfB4tU27J",
      "include_colab_link": true
    },
    "kernelspec": {
      "name": "python3",
      "display_name": "Python 3"
    }
  },
  "cells": [
    {
      "cell_type": "markdown",
      "metadata": {
        "id": "view-in-github",
        "colab_type": "text"
      },
      "source": [
        "<a href=\"https://colab.research.google.com/github/plancute/python/blob/master/deeplearning/code/06_Logistic_Regression.ipynb\" target=\"_parent\"><img src=\"https://colab.research.google.com/assets/colab-badge.svg\" alt=\"Open In Colab\"/></a>"
      ]
    },
    {
      "cell_type": "markdown",
      "metadata": {
        "id": "KitmYVtdFv-c",
        "colab_type": "text"
      },
      "source": [
        "5장 참 거짓 판단장치 : 로지스틱 회귀 (79-89p, part_1)"
      ]
    },
    {
      "cell_type": "markdown",
      "metadata": {
        "id": "u8x4y7lGGhoD",
        "colab_type": "text"
      },
      "source": [
        "01. 로지스틱 회귀의 정의 : 참(1)과 거짓(0) 사이를 구분하는 S자 형태의 선을 그어주는 작업"
      ]
    },
    {
      "cell_type": "markdown",
      "metadata": {
        "id": "qukQljDKHEBq",
        "colab_type": "text"
      },
      "source": [
        "02. 시그모이드 함수 : S자형 곡선 또는 시그모이드 곡선을 갖는 수학함수"
      ]
    },
    {
      "cell_type": "markdown",
      "metadata": {
        "id": "4OU3rtrWFpyI",
        "colab_type": "text"
      },
      "source": [
        "y = $\\frac{1}{1+e^{(-ax+b)}}$"
      ]
    },
    {
      "cell_type": "markdown",
      "metadata": {
        "id": "4JcSfoJ_J72h",
        "colab_type": "text"
      },
      "source": [
        "03. 오차공식 : 예측값과 실제값의 차이(오차)를 구하는 공식\n",
        "             --> 로그함수 "
      ]
    },
    {
      "cell_type": "markdown",
      "metadata": {
        "id": "5MyLJW4xHHui",
        "colab_type": "text"
      },
      "source": [
        "- 무리수 e = 2.71828... <br>\n",
        "- 구해야 하는 값: ax+b <br>\n",
        "- a가 커지면 경사가 커지고, a가 작아지면 경사사 작아짐 <br>\n",
        "- b가 커지면 오른쪽으로 이동, b가 작아지면 왼쪽으로 이동\n",
        "- 구하는 법 : 경사하강법"
      ]
    },
    {
      "cell_type": "markdown",
      "metadata": {
        "id": "wCoRMEUdKupY",
        "colab_type": "text"
      },
      "source": [
        "04. 로그함수 : 실제값 y가 0이면 앞부분이 없어지고, 실제값 y가 1이면 뒷부분이 없어진다.<br> \n",
        "$-{ylogh+(1-y)log(1-h)}$ <br>\n"
      ]
    },
    {
      "cell_type": "markdown",
      "metadata": {
        "id": "Y62T_KzvLt95",
        "colab_type": "text"
      },
      "source": [
        "05. 코딩으로 확인하는 로지스틱 회귀 (tensorflow)"
      ]
    },
    {
      "cell_type": "code",
      "metadata": {
        "id": "Ih33oMr2zGYY",
        "colab_type": "code",
        "colab": {
          "base_uri": "https://localhost:8080/",
          "height": 92
        },
        "outputId": "2d3358f7-9ae9-45bc-ac2e-33cdc5464bd5"
      },
      "source": [
        "#-*- coding: utf-8 -*-\n",
        "import numpy as np\n",
        "import tensorflow.compat.v1 as tf\n",
        "tf.disable_v2_behavior()"
      ],
      "execution_count": 1,
      "outputs": [
        {
          "output_type": "stream",
          "text": [
            "WARNING:tensorflow:From /usr/local/lib/python3.6/dist-packages/tensorflow/python/compat/v2_compat.py:96: disable_resource_variables (from tensorflow.python.ops.variable_scope) is deprecated and will be removed in a future version.\n",
            "Instructions for updating:\n",
            "non-resource variables are not supported in the long term\n"
          ],
          "name": "stdout"
        }
      ]
    },
    {
      "cell_type": "code",
      "metadata": {
        "id": "ua03gozv1Hz1",
        "colab_type": "code",
        "colab": {}
      },
      "source": [
        "# 데이터\n",
        "data = [[2, 0], [4, 0], [6, 0], [8, 1], [10, 1], [12, 1], [14, 1]]"
      ],
      "execution_count": 2,
      "outputs": []
    },
    {
      "cell_type": "code",
      "metadata": {
        "id": "XIbnkaIP1Qfx",
        "colab_type": "code",
        "colab": {}
      },
      "source": [
        "x_data=[row[0] for row in data]\n",
        "y_data=[row[1] for row in data]"
      ],
      "execution_count": 3,
      "outputs": []
    },
    {
      "cell_type": "code",
      "metadata": {
        "id": "Gf-5oKI_1kl5",
        "colab_type": "code",
        "colab": {
          "base_uri": "https://localhost:8080/",
          "height": 35
        },
        "outputId": "db5b71e5-6626-4aa9-c337-0aab222b81e5"
      },
      "source": [
        "x_data"
      ],
      "execution_count": 4,
      "outputs": [
        {
          "output_type": "execute_result",
          "data": {
            "text/plain": [
              "[2, 4, 6, 8, 10, 12, 14]"
            ]
          },
          "metadata": {
            "tags": []
          },
          "execution_count": 4
        }
      ]
    },
    {
      "cell_type": "code",
      "metadata": {
        "id": "wUsQCFil1lLh",
        "colab_type": "code",
        "colab": {}
      },
      "source": [
        "# 기울기 a와 y절편 b의 값을 임의로 정함\n",
        "a= tf.Variable(tf.random_uniform([1], dtype=tf.float64, seed=0))\n",
        "b= tf.Variable(tf.random_uniform([1], dtype=tf.float64, seed=0))"
      ],
      "execution_count": 5,
      "outputs": []
    },
    {
      "cell_type": "code",
      "metadata": {
        "id": "YYMNUZKw18_E",
        "colab_type": "code",
        "colab": {}
      },
      "source": [
        "# 시그모이드 함수의 방정식을 세움\n",
        "y = 1 / (1 + np.e**(a * x_data + b))"
      ],
      "execution_count": 6,
      "outputs": []
    },
    {
      "cell_type": "code",
      "metadata": {
        "id": "PuKOICqR2LIj",
        "colab_type": "code",
        "colab": {}
      },
      "source": [
        "# loss(오차) 를 구하는 함수 (실제값: y_data, 예측값(h): y)\n",
        "loss = -tf.reduce_mean(np.array(y_data) * tf.log(y) + (1 - np.array(y_data)) * tf.log(1 - y))"
      ],
      "execution_count": 7,
      "outputs": []
    },
    {
      "cell_type": "code",
      "metadata": {
        "id": "t9WV-ncg2S_x",
        "colab_type": "code",
        "colab": {}
      },
      "source": [
        "# 학습률 값\n",
        "learning_rate = 0.5"
      ],
      "execution_count": 8,
      "outputs": []
    },
    {
      "cell_type": "code",
      "metadata": {
        "id": "0zmpOxkl2hBQ",
        "colab_type": "code",
        "colab": {}
      },
      "source": [
        "# loss 값을 최소로 하는 값 찾기\n",
        "gradient_descent = tf.train.GradientDescentOptimizer(learning_rate).minimize(loss)"
      ],
      "execution_count": 9,
      "outputs": []
    },
    {
      "cell_type": "code",
      "metadata": {
        "id": "Ijwtg0TF2q8I",
        "colab_type": "code",
        "colab": {
          "base_uri": "https://localhost:8080/",
          "height": 218
        },
        "outputId": "fb4e7593-ff4b-4a34-f2f2-9f63ea8127ce"
      },
      "source": [
        "# 학습이 진행되는 부분\n",
        "with tf.Session() as sess:\n",
        "  sess.run(tf.global_variables_initializer())\n",
        "  for step in range(60001):\n",
        "    sess.run(gradient_descent)\n",
        "    if step % 6000 == 0:\n",
        "      print(\"Epoch: %.f, loss = %.4f, 기울기 a = %.4f, 바이어스 b = %.4f\" % (step, sess.run(loss), sess.run(a), sess.run(b)))"
      ],
      "execution_count": 10,
      "outputs": [
        {
          "output_type": "stream",
          "text": [
            "Epoch: 0, loss = 3.7483, 기울기 a = -2.3173, 바이어스 b = 0.5286\n",
            "Epoch: 6000, loss = 0.0152, 기울기 a = -2.9232, 바이어스 b = 20.3131\n",
            "Epoch: 12000, loss = 0.0081, 기울기 a = -3.5649, 바이어스 b = 24.8090\n",
            "Epoch: 18000, loss = 0.0055, 기울기 a = -3.9565, 바이어스 b = 27.5518\n",
            "Epoch: 24000, loss = 0.0041, 기울기 a = -4.2386, 바이어스 b = 29.5272\n",
            "Epoch: 30000, loss = 0.0033, 기울기 a = -4.4591, 바이어스 b = 31.0709\n",
            "Epoch: 36000, loss = 0.0028, 기울기 a = -4.6400, 바이어스 b = 32.3374\n",
            "Epoch: 42000, loss = 0.0024, 기울기 a = -4.7933, 바이어스 b = 33.4110\n",
            "Epoch: 48000, loss = 0.0021, 기울기 a = -4.9264, 바이어스 b = 34.3427\n",
            "Epoch: 54000, loss = 0.0019, 기울기 a = -5.0439, 바이어스 b = 35.1655\n",
            "Epoch: 60000, loss = 0.0017, 기울기 a = -5.1491, 바이어스 b = 35.9021\n"
          ],
          "name": "stdout"
        }
      ]
    },
    {
      "cell_type": "markdown",
      "metadata": {
        "id": "LM03d01CMLXT",
        "colab_type": "text"
      },
      "source": [
        "--> 오차(loss)값이 점차 줄어들고 a와 b의 최적값을 찾아간다."
      ]
    },
    {
      "cell_type": "code",
      "metadata": {
        "id": "vLNpCIB3MXpK",
        "colab_type": "code",
        "colab": {}
      },
      "source": [
        ""
      ],
      "execution_count": 10,
      "outputs": []
    }
  ]
}