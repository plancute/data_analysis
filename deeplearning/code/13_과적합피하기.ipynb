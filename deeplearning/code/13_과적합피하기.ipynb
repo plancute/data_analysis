{
  "nbformat": 4,
  "nbformat_minor": 0,
  "metadata": {
    "colab": {
      "name": "13_과적합피하기.ipynb",
      "provenance": [],
      "collapsed_sections": [],
      "mount_file_id": "1Arj_6F6sGXWCH9QPeLdcfL5DF-FUom6_",
      "authorship_tag": "ABX9TyOh21+tMNtad9rgp8VsvJqe",
      "include_colab_link": true
    },
    "kernelspec": {
      "name": "python3",
      "display_name": "Python 3"
    }
  },
  "cells": [
    {
      "cell_type": "markdown",
      "metadata": {
        "id": "view-in-github",
        "colab_type": "text"
      },
      "source": [
        "<a href=\"https://colab.research.google.com/github/plancute/python/blob/master/deeplearning/code/13_%EA%B3%BC%EC%A0%81%ED%95%A9%ED%94%BC%ED%95%98%EA%B8%B0.ipynb\" target=\"_parent\"><img src=\"https://colab.research.google.com/assets/colab-badge.svg\" alt=\"Open In Colab\"/></a>"
      ]
    },
    {
      "cell_type": "markdown",
      "metadata": {
        "id": "LQW6-r-9JrGN",
        "colab_type": "text"
      },
      "source": [
        "# 13장 과적합 피하기 155-173p"
      ]
    },
    {
      "cell_type": "markdown",
      "metadata": {
        "id": "qZ0k1RG4pImK",
        "colab_type": "text"
      },
      "source": [
        "\n",
        "  - 학습한 code <br>\n",
        "    deep_code/04-Sonar.py <br>\n",
        "    deep_code/05_Sonar_Train_Test.py <br>\n",
        "    deep_code/06-Sonar-Save-Model.py <br>\n",
        "    deep_code/07_Sonar-K-fold.py <br>"
      ]
    },
    {
      "cell_type": "markdown",
      "metadata": {
        "id": "Qa2vdB3-J2Uy",
        "colab_type": "text"
      },
      "source": [
        "<< deep_code/04-Sonar.py >>"
      ]
    },
    {
      "cell_type": "code",
      "metadata": {
        "id": "5ElAHDXB3au6",
        "colab_type": "code",
        "colab": {
          "base_uri": "https://localhost:8080/",
          "height": 92
        },
        "outputId": "85760a74-16fa-4fb1-9be5-848422e68de5"
      },
      "source": [
        "from keras.models import Sequential\n",
        "from keras.layers.core import Dense\n",
        "from sklearn.preprocessing import LabelEncoder\n",
        "\n",
        "import pandas as pd\n",
        "import numpy as np\n",
        "#import tensorflow as tf\n",
        "import tensorflow.compat.v1 as tf\n",
        "tf.disable_v2_behavior()\n",
        "# 이거 또... 텐서플로v1만 되네 ㅠㅠ"
      ],
      "execution_count": 1,
      "outputs": [
        {
          "output_type": "stream",
          "text": [
            "WARNING:tensorflow:From /usr/local/lib/python3.6/dist-packages/tensorflow/python/compat/v2_compat.py:96: disable_resource_variables (from tensorflow.python.ops.variable_scope) is deprecated and will be removed in a future version.\n",
            "Instructions for updating:\n",
            "non-resource variables are not supported in the long term\n"
          ],
          "name": "stdout"
        }
      ]
    },
    {
      "cell_type": "code",
      "metadata": {
        "id": "mrnFjLgJ3qpC",
        "colab_type": "code",
        "colab": {}
      },
      "source": [
        "# seed 값 설정\n",
        "seed = 0\n",
        "np.random.seed(seed)\n",
        "tf.set_random_seed(seed)"
      ],
      "execution_count": 2,
      "outputs": []
    },
    {
      "cell_type": "code",
      "metadata": {
        "id": "UyEquPpu3uUC",
        "colab_type": "code",
        "colab": {}
      },
      "source": [
        "# 데이터 입력\n",
        "df = pd.read_csv('/content/drive/My Drive/data/sonar.csv', header=None)"
      ],
      "execution_count": 3,
      "outputs": []
    },
    {
      "cell_type": "code",
      "metadata": {
        "id": "5bZYNzp74NLk",
        "colab_type": "code",
        "colab": {}
      },
      "source": [
        "# 데이터 개괄 보기 (208개 데이터, 61개 컬럼 (60개의 속성 + 1개의 클래스) )\n",
        "## print(df.info())"
      ],
      "execution_count": 4,
      "outputs": []
    },
    {
      "cell_type": "code",
      "metadata": {
        "id": "-f-SVHuK4UIJ",
        "colab_type": "code",
        "colab": {
          "base_uri": "https://localhost:8080/",
          "height": 164
        },
        "outputId": "4044e0fc-ede4-41f0-9a25-57b92d2c581b"
      },
      "source": [
        "# 데이터의 일부분 미리 보기\n",
        "print(df.head())"
      ],
      "execution_count": 5,
      "outputs": [
        {
          "output_type": "stream",
          "text": [
            "       0       1       2       3       4   ...      56      57      58      59  60\n",
            "0  0.0200  0.0371  0.0428  0.0207  0.0954  ...  0.0180  0.0084  0.0090  0.0032   R\n",
            "1  0.0453  0.0523  0.0843  0.0689  0.1183  ...  0.0140  0.0049  0.0052  0.0044   R\n",
            "2  0.0262  0.0582  0.1099  0.1083  0.0974  ...  0.0316  0.0164  0.0095  0.0078   R\n",
            "3  0.0100  0.0171  0.0623  0.0205  0.0205  ...  0.0050  0.0044  0.0040  0.0117   R\n",
            "4  0.0762  0.0666  0.0481  0.0394  0.0590  ...  0.0072  0.0048  0.0107  0.0094   R\n",
            "\n",
            "[5 rows x 61 columns]\n"
          ],
          "name": "stdout"
        }
      ]
    },
    {
      "cell_type": "code",
      "metadata": {
        "id": "ZZZYCxn24Zfh",
        "colab_type": "code",
        "colab": {}
      },
      "source": [
        "dataset = df.values\n",
        "X = dataset[:,0:60]\n",
        "Y_obj = dataset[:,60]"
      ],
      "execution_count": 6,
      "outputs": []
    },
    {
      "cell_type": "code",
      "metadata": {
        "id": "B4G4ksd646so",
        "colab_type": "code",
        "colab": {
          "base_uri": "https://localhost:8080/",
          "height": 146
        },
        "outputId": "89e6881c-4248-4d3e-b2e5-79b008ab5486"
      },
      "source": [
        "X"
      ],
      "execution_count": 7,
      "outputs": [
        {
          "output_type": "execute_result",
          "data": {
            "text/plain": [
              "array([[0.02, 0.0371, 0.0428, ..., 0.0084, 0.009, 0.0032],\n",
              "       [0.0453, 0.0523, 0.0843, ..., 0.0049, 0.0052, 0.0044],\n",
              "       [0.0262, 0.0582, 0.1099, ..., 0.0164, 0.0095, 0.0078],\n",
              "       ...,\n",
              "       [0.0522, 0.0437, 0.018, ..., 0.0138, 0.0077, 0.0031],\n",
              "       [0.0303, 0.0353, 0.049, ..., 0.0079, 0.0036, 0.0048],\n",
              "       [0.026, 0.0363, 0.0136, ..., 0.0036, 0.0061, 0.0115]], dtype=object)"
            ]
          },
          "metadata": {
            "tags": []
          },
          "execution_count": 7
        }
      ]
    },
    {
      "cell_type": "code",
      "metadata": {
        "id": "N0wZqdrY48j5",
        "colab_type": "code",
        "colab": {
          "base_uri": "https://localhost:8080/",
          "height": 330
        },
        "outputId": "ccfd36e3-5cfb-4495-ae25-5031d0274edd"
      },
      "source": [
        "Y_obj"
      ],
      "execution_count": 8,
      "outputs": [
        {
          "output_type": "execute_result",
          "data": {
            "text/plain": [
              "array(['R', 'R', 'R', 'R', 'R', 'R', 'R', 'R', 'R', 'R', 'R', 'R', 'R',\n",
              "       'R', 'R', 'R', 'R', 'R', 'R', 'R', 'R', 'R', 'R', 'R', 'R', 'R',\n",
              "       'R', 'R', 'R', 'R', 'R', 'R', 'R', 'R', 'R', 'R', 'R', 'R', 'R',\n",
              "       'R', 'R', 'R', 'R', 'R', 'R', 'R', 'R', 'R', 'R', 'R', 'R', 'R',\n",
              "       'R', 'R', 'R', 'R', 'R', 'R', 'R', 'R', 'R', 'R', 'R', 'R', 'R',\n",
              "       'R', 'R', 'R', 'R', 'R', 'R', 'R', 'R', 'R', 'R', 'R', 'R', 'R',\n",
              "       'R', 'R', 'R', 'R', 'R', 'R', 'R', 'R', 'R', 'R', 'R', 'R', 'R',\n",
              "       'R', 'R', 'R', 'R', 'R', 'R', 'M', 'M', 'M', 'M', 'M', 'M', 'M',\n",
              "       'M', 'M', 'M', 'M', 'M', 'M', 'M', 'M', 'M', 'M', 'M', 'M', 'M',\n",
              "       'M', 'M', 'M', 'M', 'M', 'M', 'M', 'M', 'M', 'M', 'M', 'M', 'M',\n",
              "       'M', 'M', 'M', 'M', 'M', 'M', 'M', 'M', 'M', 'M', 'M', 'M', 'M',\n",
              "       'M', 'M', 'M', 'M', 'M', 'M', 'M', 'M', 'M', 'M', 'M', 'M', 'M',\n",
              "       'M', 'M', 'M', 'M', 'M', 'M', 'M', 'M', 'M', 'M', 'M', 'M', 'M',\n",
              "       'M', 'M', 'M', 'M', 'M', 'M', 'M', 'M', 'M', 'M', 'M', 'M', 'M',\n",
              "       'M', 'M', 'M', 'M', 'M', 'M', 'M', 'M', 'M', 'M', 'M', 'M', 'M',\n",
              "       'M', 'M', 'M', 'M', 'M', 'M', 'M', 'M', 'M', 'M', 'M', 'M', 'M'],\n",
              "      dtype=object)"
            ]
          },
          "metadata": {
            "tags": []
          },
          "execution_count": 8
        }
      ]
    },
    {
      "cell_type": "code",
      "metadata": {
        "id": "Yyn2zLub4-UI",
        "colab_type": "code",
        "colab": {}
      },
      "source": [
        "# 문자열 변환\n",
        "e = LabelEncoder()\n",
        "e.fit(Y_obj)\n",
        "Y = e.transform(Y_obj)"
      ],
      "execution_count": 9,
      "outputs": []
    },
    {
      "cell_type": "code",
      "metadata": {
        "id": "jGfoyqP_4_uo",
        "colab_type": "code",
        "colab": {
          "base_uri": "https://localhost:8080/",
          "height": 201
        },
        "outputId": "5cdd7587-9ab1-4c3b-9038-8beb6cf60906"
      },
      "source": [
        "Y"
      ],
      "execution_count": 10,
      "outputs": [
        {
          "output_type": "execute_result",
          "data": {
            "text/plain": [
              "array([1, 1, 1, 1, 1, 1, 1, 1, 1, 1, 1, 1, 1, 1, 1, 1, 1, 1, 1, 1, 1, 1,\n",
              "       1, 1, 1, 1, 1, 1, 1, 1, 1, 1, 1, 1, 1, 1, 1, 1, 1, 1, 1, 1, 1, 1,\n",
              "       1, 1, 1, 1, 1, 1, 1, 1, 1, 1, 1, 1, 1, 1, 1, 1, 1, 1, 1, 1, 1, 1,\n",
              "       1, 1, 1, 1, 1, 1, 1, 1, 1, 1, 1, 1, 1, 1, 1, 1, 1, 1, 1, 1, 1, 1,\n",
              "       1, 1, 1, 1, 1, 1, 1, 1, 1, 0, 0, 0, 0, 0, 0, 0, 0, 0, 0, 0, 0, 0,\n",
              "       0, 0, 0, 0, 0, 0, 0, 0, 0, 0, 0, 0, 0, 0, 0, 0, 0, 0, 0, 0, 0, 0,\n",
              "       0, 0, 0, 0, 0, 0, 0, 0, 0, 0, 0, 0, 0, 0, 0, 0, 0, 0, 0, 0, 0, 0,\n",
              "       0, 0, 0, 0, 0, 0, 0, 0, 0, 0, 0, 0, 0, 0, 0, 0, 0, 0, 0, 0, 0, 0,\n",
              "       0, 0, 0, 0, 0, 0, 0, 0, 0, 0, 0, 0, 0, 0, 0, 0, 0, 0, 0, 0, 0, 0,\n",
              "       0, 0, 0, 0, 0, 0, 0, 0, 0, 0])"
            ]
          },
          "metadata": {
            "tags": []
          },
          "execution_count": 10
        }
      ]
    },
    {
      "cell_type": "markdown",
      "metadata": {
        "id": "fZFT5jmTA2HK",
        "colab_type": "text"
      },
      "source": [
        "## version_1 : 학습한 데이터로 테스트"
      ]
    },
    {
      "cell_type": "code",
      "metadata": {
        "id": "GbC4N7hu5Aag",
        "colab_type": "code",
        "colab": {}
      },
      "source": [
        "# 모델 설정\n",
        "model = Sequential()\n",
        "model.add(Dense(24,  input_dim=60, activation='relu'))\n",
        "model.add(Dense(10, activation='relu'))\n",
        "model.add(Dense(1, activation='sigmoid'))"
      ],
      "execution_count": 11,
      "outputs": []
    },
    {
      "cell_type": "code",
      "metadata": {
        "id": "uNLhcsiS5DLI",
        "colab_type": "code",
        "colab": {}
      },
      "source": [
        "# 모델 컴파일\n",
        "model.compile(loss='mean_squared_error',\n",
        "            optimizer='adam',\n",
        "            metrics=['accuracy'])"
      ],
      "execution_count": 12,
      "outputs": []
    },
    {
      "cell_type": "code",
      "metadata": {
        "id": "cSOr1wiV5QW8",
        "colab_type": "code",
        "colab": {}
      },
      "source": [
        "X = np.array(X)\n",
        "Y = np.array(Y)"
      ],
      "execution_count": 13,
      "outputs": []
    },
    {
      "cell_type": "code",
      "metadata": {
        "id": "97XWlEGi5EvQ",
        "colab_type": "code",
        "colab": {
          "base_uri": "https://localhost:8080/",
          "height": 790
        },
        "outputId": "67e5daba-14be-43b2-d251-fe0136e17474"
      },
      "source": [
        "# 모델 실행\n",
        "model.fit(X, Y, epochs=20, batch_size=5)"
      ],
      "execution_count": 14,
      "outputs": [
        {
          "output_type": "stream",
          "text": [
            "Train on 208 samples\n",
            "Epoch 1/20\n",
            "208/208 [==============================] - 0s 215us/sample - loss: 0.2491 - acc: 0.5385\n",
            "Epoch 2/20\n",
            "208/208 [==============================] - 0s 191us/sample - loss: 0.2363 - acc: 0.5625\n",
            "Epoch 3/20\n",
            "208/208 [==============================] - 0s 198us/sample - loss: 0.2296 - acc: 0.6683\n",
            "Epoch 4/20\n",
            "208/208 [==============================] - 0s 305us/sample - loss: 0.2202 - acc: 0.6683\n",
            "Epoch 5/20\n",
            "208/208 [==============================] - 0s 200us/sample - loss: 0.2085 - acc: 0.6923\n",
            "Epoch 6/20\n",
            "208/208 [==============================] - 0s 236us/sample - loss: 0.1974 - acc: 0.7500\n",
            "Epoch 7/20\n",
            "208/208 [==============================] - 0s 208us/sample - loss: 0.1882 - acc: 0.7644\n",
            "Epoch 8/20\n",
            "208/208 [==============================] - 0s 193us/sample - loss: 0.1791 - acc: 0.7933\n",
            "Epoch 9/20\n",
            "208/208 [==============================] - 0s 279us/sample - loss: 0.1704 - acc: 0.7596\n",
            "Epoch 10/20\n",
            "208/208 [==============================] - 0s 212us/sample - loss: 0.1656 - acc: 0.7981\n",
            "Epoch 11/20\n",
            "208/208 [==============================] - 0s 194us/sample - loss: 0.1606 - acc: 0.8029\n",
            "Epoch 12/20\n",
            "208/208 [==============================] - 0s 194us/sample - loss: 0.1553 - acc: 0.8029\n",
            "Epoch 13/20\n",
            "208/208 [==============================] - 0s 188us/sample - loss: 0.1496 - acc: 0.8221\n",
            "Epoch 14/20\n",
            "208/208 [==============================] - 0s 190us/sample - loss: 0.1436 - acc: 0.8125\n",
            "Epoch 15/20\n",
            "208/208 [==============================] - 0s 219us/sample - loss: 0.1415 - acc: 0.7981\n",
            "Epoch 16/20\n",
            "208/208 [==============================] - 0s 184us/sample - loss: 0.1357 - acc: 0.8221\n",
            "Epoch 17/20\n",
            "208/208 [==============================] - 0s 191us/sample - loss: 0.1389 - acc: 0.8029\n",
            "Epoch 18/20\n",
            "208/208 [==============================] - 0s 195us/sample - loss: 0.1319 - acc: 0.8317\n",
            "Epoch 19/20\n",
            "208/208 [==============================] - 0s 231us/sample - loss: 0.1268 - acc: 0.8413\n",
            "Epoch 20/20\n",
            "208/208 [==============================] - 0s 183us/sample - loss: 0.1273 - acc: 0.8365\n"
          ],
          "name": "stdout"
        },
        {
          "output_type": "execute_result",
          "data": {
            "text/plain": [
              "<tensorflow.python.keras.callbacks.History at 0x7fa1951d72e8>"
            ]
          },
          "metadata": {
            "tags": []
          },
          "execution_count": 14
        }
      ]
    },
    {
      "cell_type": "code",
      "metadata": {
        "id": "CxbZp0Y56ctQ",
        "colab_type": "code",
        "colab": {
          "base_uri": "https://localhost:8080/",
          "height": 129
        },
        "outputId": "b27a1d75-4982-4fbf-953c-64ff83b25bcc"
      },
      "source": [
        "# 결과 출력 (정확도 100%)\n",
        "print(\"\\n Accuracy: %.4f\" % (model.evaluate(X, Y)[1]))"
      ],
      "execution_count": 15,
      "outputs": [
        {
          "output_type": "stream",
          "text": [
            "WARNING:tensorflow:From /usr/local/lib/python3.6/dist-packages/tensorflow/python/keras/engine/training_v1.py:2048: Model.state_updates (from tensorflow.python.keras.engine.training) is deprecated and will be removed in a future version.\n",
            "Instructions for updating:\n",
            "This property should not be used in TensorFlow 2.0, as updates are applied automatically.\n",
            "\n",
            " Accuracy: 0.8413\n"
          ],
          "name": "stdout"
        }
      ]
    },
    {
      "cell_type": "markdown",
      "metadata": {
        "id": "Rum1GmMYBNbg",
        "colab_type": "text"
      },
      "source": [
        "## version_2 : 학습셋과 테스트셋 구분"
      ]
    },
    {
      "cell_type": "markdown",
      "metadata": {
        "id": "y61c7OzoKP2q",
        "colab_type": "text"
      },
      "source": [
        "<< deep_code/05_Sonar_Train_Test.py >>"
      ]
    },
    {
      "cell_type": "code",
      "metadata": {
        "id": "Fb1YLM-WBbPY",
        "colab_type": "code",
        "colab": {}
      },
      "source": [
        "from sklearn.model_selection import train_test_split"
      ],
      "execution_count": 16,
      "outputs": []
    },
    {
      "cell_type": "code",
      "metadata": {
        "id": "cMngPb0o_r7L",
        "colab_type": "code",
        "colab": {}
      },
      "source": [
        "# 학습 셋과 테스트 셋의 구분 (208개, 7:3)\n",
        "X_train, X_test, Y_train, Y_test = train_test_split(X, Y, test_size=0.3, random_state=seed)"
      ],
      "execution_count": 17,
      "outputs": []
    },
    {
      "cell_type": "code",
      "metadata": {
        "id": "AKcks9VKBf5n",
        "colab_type": "code",
        "colab": {
          "base_uri": "https://localhost:8080/",
          "height": 90
        },
        "outputId": "3acbbcfe-3c0b-463b-8c5d-1df2d7245b7f"
      },
      "source": [
        "print(len(X_train)) \n",
        "print(len(Y_train))\n",
        "print(len(X_test))\n",
        "print(len(Y_test))"
      ],
      "execution_count": 18,
      "outputs": [
        {
          "output_type": "stream",
          "text": [
            "145\n",
            "145\n",
            "63\n",
            "63\n"
          ],
          "name": "stdout"
        }
      ]
    },
    {
      "cell_type": "code",
      "metadata": {
        "id": "jd8QlE6uBsI3",
        "colab_type": "code",
        "colab": {}
      },
      "source": [
        "model_2 = Sequential()\n",
        "model_2.add(Dense(24,  input_dim=60, activation='relu'))\n",
        "model_2.add(Dense(10, activation='relu'))\n",
        "model_2.add(Dense(1, activation='sigmoid'))"
      ],
      "execution_count": 19,
      "outputs": []
    },
    {
      "cell_type": "code",
      "metadata": {
        "id": "IV-DOXbZCW8-",
        "colab_type": "code",
        "colab": {}
      },
      "source": [
        "model_2.compile(loss='mean_squared_error',\n",
        "            optimizer='adam',\n",
        "            metrics=['accuracy'])"
      ],
      "execution_count": 20,
      "outputs": []
    },
    {
      "cell_type": "code",
      "metadata": {
        "id": "4Bu6zdcPCZpP",
        "colab_type": "code",
        "colab": {
          "base_uri": "https://localhost:8080/",
          "height": 1000
        },
        "outputId": "f6b87516-f4d0-4ef4-d524-732c8b46c804"
      },
      "source": [
        "model_2.fit(X_train, Y_train, epochs=30, batch_size=5)"
      ],
      "execution_count": 21,
      "outputs": [
        {
          "output_type": "stream",
          "text": [
            "Train on 145 samples\n",
            "Epoch 1/30\n",
            "145/145 [==============================] - 0s 294us/sample - loss: 0.2482 - acc: 0.5448\n",
            "Epoch 2/30\n",
            "145/145 [==============================] - 0s 201us/sample - loss: 0.2381 - acc: 0.5931\n",
            "Epoch 3/30\n",
            "145/145 [==============================] - 0s 283us/sample - loss: 0.2265 - acc: 0.6897\n",
            "Epoch 4/30\n",
            "145/145 [==============================] - 0s 223us/sample - loss: 0.2184 - acc: 0.7310\n",
            "Epoch 5/30\n",
            "145/145 [==============================] - 0s 223us/sample - loss: 0.2136 - acc: 0.6966\n",
            "Epoch 6/30\n",
            "145/145 [==============================] - 0s 233us/sample - loss: 0.2040 - acc: 0.7379\n",
            "Epoch 7/30\n",
            "145/145 [==============================] - 0s 292us/sample - loss: 0.2015 - acc: 0.7172\n",
            "Epoch 8/30\n",
            "145/145 [==============================] - 0s 221us/sample - loss: 0.1908 - acc: 0.7655\n",
            "Epoch 9/30\n",
            "145/145 [==============================] - 0s 238us/sample - loss: 0.1831 - acc: 0.7655\n",
            "Epoch 10/30\n",
            "145/145 [==============================] - 0s 208us/sample - loss: 0.1756 - acc: 0.8000\n",
            "Epoch 11/30\n",
            "145/145 [==============================] - 0s 199us/sample - loss: 0.1677 - acc: 0.7931\n",
            "Epoch 12/30\n",
            "145/145 [==============================] - 0s 207us/sample - loss: 0.1615 - acc: 0.8276\n",
            "Epoch 13/30\n",
            "145/145 [==============================] - 0s 207us/sample - loss: 0.1564 - acc: 0.8000\n",
            "Epoch 14/30\n",
            "145/145 [==============================] - 0s 208us/sample - loss: 0.1490 - acc: 0.8207\n",
            "Epoch 15/30\n",
            "145/145 [==============================] - 0s 229us/sample - loss: 0.1436 - acc: 0.8207\n",
            "Epoch 16/30\n",
            "145/145 [==============================] - 0s 203us/sample - loss: 0.1403 - acc: 0.8276\n",
            "Epoch 17/30\n",
            "145/145 [==============================] - 0s 201us/sample - loss: 0.1338 - acc: 0.8690\n",
            "Epoch 18/30\n",
            "145/145 [==============================] - 0s 202us/sample - loss: 0.1347 - acc: 0.8276\n",
            "Epoch 19/30\n",
            "145/145 [==============================] - 0s 198us/sample - loss: 0.1294 - acc: 0.8552\n",
            "Epoch 20/30\n",
            "145/145 [==============================] - 0s 227us/sample - loss: 0.1222 - acc: 0.8621\n",
            "Epoch 21/30\n",
            "145/145 [==============================] - 0s 202us/sample - loss: 0.1182 - acc: 0.8759\n",
            "Epoch 22/30\n",
            "145/145 [==============================] - 0s 197us/sample - loss: 0.1162 - acc: 0.8690\n",
            "Epoch 23/30\n",
            "145/145 [==============================] - 0s 187us/sample - loss: 0.1136 - acc: 0.8828\n",
            "Epoch 24/30\n",
            "145/145 [==============================] - 0s 187us/sample - loss: 0.1109 - acc: 0.8828\n",
            "Epoch 25/30\n",
            "145/145 [==============================] - 0s 209us/sample - loss: 0.1103 - acc: 0.8759\n",
            "Epoch 26/30\n",
            "145/145 [==============================] - 0s 231us/sample - loss: 0.1051 - acc: 0.9103\n",
            "Epoch 27/30\n",
            "145/145 [==============================] - 0s 198us/sample - loss: 0.1058 - acc: 0.8828\n",
            "Epoch 28/30\n",
            "145/145 [==============================] - 0s 242us/sample - loss: 0.1031 - acc: 0.9172\n",
            "Epoch 29/30\n",
            "145/145 [==============================] - 0s 200us/sample - loss: 0.1029 - acc: 0.8690\n",
            "Epoch 30/30\n",
            "145/145 [==============================] - 0s 210us/sample - loss: 0.0987 - acc: 0.8897\n"
          ],
          "name": "stdout"
        },
        {
          "output_type": "execute_result",
          "data": {
            "text/plain": [
              "<tensorflow.python.keras.callbacks.History at 0x7fa18e3cdf28>"
            ]
          },
          "metadata": {
            "tags": []
          },
          "execution_count": 21
        }
      ]
    },
    {
      "cell_type": "code",
      "metadata": {
        "id": "vS-x514yCdMP",
        "colab_type": "code",
        "colab": {
          "base_uri": "https://localhost:8080/",
          "height": 54
        },
        "outputId": "0f6718a3-519f-4371-ba88-da90f725d771"
      },
      "source": [
        "# 테스트셋에 모델 적용  (정확도 80.95%)\n",
        "print(\"\\n Test Accuracy: %.4f\" % (model_2.evaluate(X_test, Y_test)[1]))"
      ],
      "execution_count": 22,
      "outputs": [
        {
          "output_type": "stream",
          "text": [
            "\n",
            " Test Accuracy: 0.8254\n"
          ],
          "name": "stdout"
        }
      ]
    },
    {
      "cell_type": "markdown",
      "metadata": {
        "id": "j8CY3ieOCx7p",
        "colab_type": "text"
      },
      "source": [
        "## version_3 : 모델 저장과 재사용"
      ]
    },
    {
      "cell_type": "markdown",
      "metadata": {
        "id": "muK_bdlXKbMT",
        "colab_type": "text"
      },
      "source": [
        "<< deep_code/06-Sonar-Save-Model.py >>"
      ]
    },
    {
      "cell_type": "code",
      "metadata": {
        "id": "aBT2w3b0DRQ1",
        "colab_type": "code",
        "colab": {}
      },
      "source": [
        "# 모델을 컴퓨터에 저장\n",
        "model_2.save('/content/drive/My Drive/model/sonar_model_v2.h5')"
      ],
      "execution_count": 23,
      "outputs": []
    },
    {
      "cell_type": "code",
      "metadata": {
        "id": "t7y5lATTDl9Y",
        "colab_type": "code",
        "colab": {
          "base_uri": "https://localhost:8080/",
          "height": 35
        },
        "outputId": "492438a1-a932-4dad-8da2-7270316fbb43"
      },
      "source": [
        "model_2"
      ],
      "execution_count": 24,
      "outputs": [
        {
          "output_type": "execute_result",
          "data": {
            "text/plain": [
              "<tensorflow.python.keras.engine.sequential.Sequential at 0x7fa18e3e5748>"
            ]
          },
          "metadata": {
            "tags": []
          },
          "execution_count": 24
        }
      ]
    },
    {
      "cell_type": "code",
      "metadata": {
        "id": "ElC-UV-CDvqO",
        "colab_type": "code",
        "colab": {}
      },
      "source": [
        "# 테스트를 위해 메모리내의 모델을 삭제\n",
        "del model_2"
      ],
      "execution_count": 25,
      "outputs": []
    },
    {
      "cell_type": "code",
      "metadata": {
        "id": "q82ke6c0D4x_",
        "colab_type": "code",
        "colab": {
          "base_uri": "https://localhost:8080/",
          "height": 174
        },
        "outputId": "93a6667d-ac6a-4fa3-dd39-89a3df790b38"
      },
      "source": [
        "model_2"
      ],
      "execution_count": 26,
      "outputs": [
        {
          "output_type": "error",
          "ename": "NameError",
          "evalue": "ignored",
          "traceback": [
            "\u001b[0;31m---------------------------------------------------------------------------\u001b[0m",
            "\u001b[0;31mNameError\u001b[0m                                 Traceback (most recent call last)",
            "\u001b[0;32m<ipython-input-26-45e967d777ae>\u001b[0m in \u001b[0;36m<module>\u001b[0;34m()\u001b[0m\n\u001b[0;32m----> 1\u001b[0;31m \u001b[0mmodel_2\u001b[0m\u001b[0;34m\u001b[0m\u001b[0;34m\u001b[0m\u001b[0m\n\u001b[0m",
            "\u001b[0;31mNameError\u001b[0m: name 'model_2' is not defined"
          ]
        }
      ]
    },
    {
      "cell_type": "code",
      "metadata": {
        "id": "coUs1c9pEH21",
        "colab_type": "code",
        "colab": {}
      },
      "source": [
        "from keras.models import load_model"
      ],
      "execution_count": 27,
      "outputs": []
    },
    {
      "cell_type": "code",
      "metadata": {
        "id": "_ZQNE2T0D5ol",
        "colab_type": "code",
        "colab": {
          "base_uri": "https://localhost:8080/",
          "height": 147
        },
        "outputId": "62ad1038-23a6-4692-c8f6-4be6d6dd4dd1"
      },
      "source": [
        "model_3 = load_model('/content/drive/My Drive/model/sonar_model_v2.h5')"
      ],
      "execution_count": 28,
      "outputs": [
        {
          "output_type": "stream",
          "text": [
            "WARNING:tensorflow:From /usr/local/lib/python3.6/dist-packages/tensorflow/python/ops/init_ops.py:97: calling GlorotUniform.__init__ (from tensorflow.python.ops.init_ops) with dtype is deprecated and will be removed in a future version.\n",
            "Instructions for updating:\n",
            "Call initializer instance with the dtype argument instead of passing it to the constructor\n",
            "WARNING:tensorflow:From /usr/local/lib/python3.6/dist-packages/tensorflow/python/ops/init_ops.py:97: calling Zeros.__init__ (from tensorflow.python.ops.init_ops) with dtype is deprecated and will be removed in a future version.\n",
            "Instructions for updating:\n",
            "Call initializer instance with the dtype argument instead of passing it to the constructor\n"
          ],
          "name": "stdout"
        }
      ]
    },
    {
      "cell_type": "code",
      "metadata": {
        "id": "4PHlk8Q-EWnU",
        "colab_type": "code",
        "colab": {
          "base_uri": "https://localhost:8080/",
          "height": 35
        },
        "outputId": "8dd0f062-db33-485a-8fab-b89196c45e81"
      },
      "source": [
        "model_3"
      ],
      "execution_count": 29,
      "outputs": [
        {
          "output_type": "execute_result",
          "data": {
            "text/plain": [
              "<tensorflow.python.keras.engine.sequential.Sequential at 0x7fa18de438d0>"
            ]
          },
          "metadata": {
            "tags": []
          },
          "execution_count": 29
        }
      ]
    },
    {
      "cell_type": "code",
      "metadata": {
        "id": "Z-_ThwtHEZX8",
        "colab_type": "code",
        "colab": {
          "base_uri": "https://localhost:8080/",
          "height": 54
        },
        "outputId": "844d1228-79ff-4e0c-f691-151394eab236"
      },
      "source": [
        "# 불러온 모델로 테스트 실행 (정확도 80.95%)\n",
        "print(\"\\n Test Accuracy: %.4f\" % (model_3.evaluate(X_test, Y_test)[1]))  "
      ],
      "execution_count": 30,
      "outputs": [
        {
          "output_type": "stream",
          "text": [
            "\n",
            " Test Accuracy: 0.8254\n"
          ],
          "name": "stdout"
        }
      ]
    },
    {
      "cell_type": "markdown",
      "metadata": {
        "id": "aJB1Y3IvHAEV",
        "colab_type": "text"
      },
      "source": [
        "# version_4 : k-fold cross validation"
      ]
    },
    {
      "cell_type": "markdown",
      "metadata": {
        "id": "fu7xQTRZKhdC",
        "colab_type": "text"
      },
      "source": [
        "<< deep_code/07_Sonar-K-fold.py >>"
      ]
    },
    {
      "cell_type": "code",
      "metadata": {
        "id": "-bJ0AjqLHLWa",
        "colab_type": "code",
        "colab": {}
      },
      "source": [
        "from sklearn.model_selection import StratifiedKFold"
      ],
      "execution_count": 31,
      "outputs": []
    },
    {
      "cell_type": "code",
      "metadata": {
        "id": "ZhgjDq-3EgSE",
        "colab_type": "code",
        "colab": {}
      },
      "source": [
        "# 4개의 파일로 쪼갬 (for문에서 어떻게 동작하는지 보려고 fold 수 줄임)\n",
        "n_fold = 4\n",
        "skf = StratifiedKFold(n_splits=n_fold, shuffle=True, random_state=seed)"
      ],
      "execution_count": 32,
      "outputs": []
    },
    {
      "cell_type": "code",
      "metadata": {
        "id": "XycASVACHOmK",
        "colab_type": "code",
        "colab": {}
      },
      "source": [
        "# 빈 accuracy 배열\n",
        "accuracy = []"
      ],
      "execution_count": 33,
      "outputs": []
    },
    {
      "cell_type": "code",
      "metadata": {
        "id": "4Yay6sQWHRLy",
        "colab_type": "code",
        "colab": {
          "base_uri": "https://localhost:8080/",
          "height": 532
        },
        "outputId": "35ff37bd-ee2e-43d4-ee4e-20ab40af217a"
      },
      "source": [
        "# 모델의 설정, 컴파일, 실행 (for문 4번 돌아가고 epoch 3, 데이터 개수는 208개 중 3:1 비율이므로 156:52)\n",
        "for train, test in skf.split(X, Y):\n",
        "    model_4 = Sequential()\n",
        "    model_4.add(Dense(24, input_dim=60, activation='relu'))\n",
        "    model_4.add(Dense(10, activation='relu'))\n",
        "    model_4.add(Dense(1, activation='sigmoid'))\n",
        "    model_4.compile(loss='mean_squared_error',\n",
        "                  optimizer='adam',\n",
        "                  metrics=['accuracy'])\n",
        "    model_4.fit(X[train], Y[train], epochs=3, batch_size=5)\n",
        "    k_accuracy = \"%.4f\" % (model_4.evaluate(X[test], Y[test])[1])\n",
        "    accuracy.append(k_accuracy)"
      ],
      "execution_count": 34,
      "outputs": [
        {
          "output_type": "stream",
          "text": [
            "Train on 156 samples\n",
            "Epoch 1/3\n",
            "156/156 [==============================] - 0s 243us/sample - loss: 0.2569 - acc: 0.4808\n",
            "Epoch 2/3\n",
            "156/156 [==============================] - 0s 237us/sample - loss: 0.2421 - acc: 0.6090\n",
            "Epoch 3/3\n",
            "156/156 [==============================] - 0s 220us/sample - loss: 0.2330 - acc: 0.6731\n",
            "Train on 156 samples\n",
            "Epoch 1/3\n",
            "156/156 [==============================] - 0s 227us/sample - loss: 0.2511 - acc: 0.5321\n",
            "Epoch 2/3\n",
            "156/156 [==============================] - 0s 220us/sample - loss: 0.2415 - acc: 0.5513\n",
            "Epoch 3/3\n",
            "156/156 [==============================] - 0s 218us/sample - loss: 0.2373 - acc: 0.5321\n",
            "Train on 156 samples\n",
            "Epoch 1/3\n",
            "156/156 [==============================] - 0s 219us/sample - loss: 0.2404 - acc: 0.6474\n",
            "Epoch 2/3\n",
            "156/156 [==============================] - 0s 221us/sample - loss: 0.2272 - acc: 0.6987\n",
            "Epoch 3/3\n",
            "156/156 [==============================] - 0s 218us/sample - loss: 0.2174 - acc: 0.6795\n",
            "Train on 156 samples\n",
            "Epoch 1/3\n",
            "156/156 [==============================] - 0s 228us/sample - loss: 0.2507 - acc: 0.4359\n",
            "Epoch 2/3\n",
            "156/156 [==============================] - 0s 232us/sample - loss: 0.2492 - acc: 0.6154\n",
            "Epoch 3/3\n",
            "156/156 [==============================] - 0s 231us/sample - loss: 0.2492 - acc: 0.5128\n"
          ],
          "name": "stdout"
        }
      ]
    },
    {
      "cell_type": "code",
      "metadata": {
        "id": "eDkwyLh8HbS5",
        "colab_type": "code",
        "colab": {
          "base_uri": "https://localhost:8080/",
          "height": 54
        },
        "outputId": "87f9cbb0-6718-4933-bbe3-f3471c49fab6"
      },
      "source": [
        "# 결과 출력\n",
        "print(\"\\n %.f fold accuracy:\" % n_fold, accuracy)"
      ],
      "execution_count": 35,
      "outputs": [
        {
          "output_type": "stream",
          "text": [
            "\n",
            " 4 fold accuracy: ['0.6731', '0.5769', '0.6731', '0.5192']\n"
          ],
          "name": "stdout"
        }
      ]
    },
    {
      "cell_type": "code",
      "metadata": {
        "id": "9sinskVbINEb",
        "colab_type": "code",
        "colab": {}
      },
      "source": [
        ""
      ],
      "execution_count": 35,
      "outputs": []
    }
  ]
}