{
  "nbformat": 4,
  "nbformat_minor": 0,
  "metadata": {
    "colab": {
      "name": "13_과적합피하기.ipynb",
      "provenance": [],
      "collapsed_sections": [],
      "mount_file_id": "1Arj_6F6sGXWCH9QPeLdcfL5DF-FUom6_",
      "authorship_tag": "ABX9TyM+UvdJrhVegKw/w+w1peSs",
      "include_colab_link": true
    },
    "kernelspec": {
      "name": "python3",
      "display_name": "Python 3"
    }
  },
  "cells": [
    {
      "cell_type": "markdown",
      "metadata": {
        "id": "view-in-github",
        "colab_type": "text"
      },
      "source": [
        "<a href=\"https://colab.research.google.com/github/plancute/python/blob/master/deeplearning/code/13_%EA%B3%BC%EC%A0%81%ED%95%A9%ED%94%BC%ED%95%98%EA%B8%B0.ipynb\" target=\"_parent\"><img src=\"https://colab.research.google.com/assets/colab-badge.svg\" alt=\"Open In Colab\"/></a>"
      ]
    },
    {
      "cell_type": "markdown",
      "metadata": {
        "id": "LQW6-r-9JrGN",
        "colab_type": "text"
      },
      "source": [
        "# 13장 과적합 피하기 155-173p"
      ]
    },
    {
      "cell_type": "markdown",
      "metadata": {
        "id": "qZ0k1RG4pImK",
        "colab_type": "text"
      },
      "source": [
        "\n",
        "  - 학습한 code <br>\n",
        "    deep_code/04-Sonar.py <br>\n",
        "    deep_code/05_Sonar_Train_Test.py <br>\n",
        "    deep_code/06-Sonar-Save-Model.py <br>\n",
        "    deep_code/07_Sonar-K-fold.py <br>"
      ]
    },
    {
      "cell_type": "markdown",
      "metadata": {
        "id": "Qa2vdB3-J2Uy",
        "colab_type": "text"
      },
      "source": [
        "<< deep_code/04-Sonar.py >>"
      ]
    },
    {
      "cell_type": "code",
      "metadata": {
        "id": "5ElAHDXB3au6",
        "colab_type": "code",
        "colab": {
          "base_uri": "https://localhost:8080/",
          "height": 92
        },
        "outputId": "dc65eda1-bdfd-4082-da82-c4a32547952a"
      },
      "source": [
        "from keras.models import Sequential\n",
        "from keras.layers.core import Dense\n",
        "from sklearn.preprocessing import LabelEncoder\n",
        "\n",
        "import pandas as pd\n",
        "import numpy as np\n",
        "#import tensorflow as tf\n",
        "import tensorflow.compat.v1 as tf\n",
        "tf.disable_v2_behavior()\n",
        "# 이거 또... 텐서플로v1만 되네 ㅠㅠ"
      ],
      "execution_count": 1,
      "outputs": [
        {
          "output_type": "stream",
          "text": [
            "WARNING:tensorflow:From /usr/local/lib/python3.6/dist-packages/tensorflow/python/compat/v2_compat.py:96: disable_resource_variables (from tensorflow.python.ops.variable_scope) is deprecated and will be removed in a future version.\n",
            "Instructions for updating:\n",
            "non-resource variables are not supported in the long term\n"
          ],
          "name": "stdout"
        }
      ]
    },
    {
      "cell_type": "code",
      "metadata": {
        "id": "mrnFjLgJ3qpC",
        "colab_type": "code",
        "colab": {}
      },
      "source": [
        "# seed 값 설정\n",
        "seed = 0\n",
        "np.random.seed(seed)\n",
        "tf.set_random_seed(seed)"
      ],
      "execution_count": 2,
      "outputs": []
    },
    {
      "cell_type": "code",
      "metadata": {
        "id": "UyEquPpu3uUC",
        "colab_type": "code",
        "colab": {}
      },
      "source": [
        "# 데이터 입력\n",
        "df = pd.read_csv('/content/drive/My Drive/data/sonar.csv', header=None)"
      ],
      "execution_count": 3,
      "outputs": []
    },
    {
      "cell_type": "code",
      "metadata": {
        "id": "5bZYNzp74NLk",
        "colab_type": "code",
        "colab": {}
      },
      "source": [
        "# 데이터 개괄 보기 (208개 데이터, 61개 컬럼 (60개의 속성 + 1개의 클래스) )\n",
        "## print(df.info())"
      ],
      "execution_count": 4,
      "outputs": []
    },
    {
      "cell_type": "code",
      "metadata": {
        "id": "-f-SVHuK4UIJ",
        "colab_type": "code",
        "colab": {
          "base_uri": "https://localhost:8080/",
          "height": 164
        },
        "outputId": "598061c6-5a72-4f1a-d528-a274af9560ad"
      },
      "source": [
        "# 데이터의 일부분 미리 보기\n",
        "print(df.head())"
      ],
      "execution_count": 5,
      "outputs": [
        {
          "output_type": "stream",
          "text": [
            "       0       1       2       3       4   ...      56      57      58      59  60\n",
            "0  0.0200  0.0371  0.0428  0.0207  0.0954  ...  0.0180  0.0084  0.0090  0.0032   R\n",
            "1  0.0453  0.0523  0.0843  0.0689  0.1183  ...  0.0140  0.0049  0.0052  0.0044   R\n",
            "2  0.0262  0.0582  0.1099  0.1083  0.0974  ...  0.0316  0.0164  0.0095  0.0078   R\n",
            "3  0.0100  0.0171  0.0623  0.0205  0.0205  ...  0.0050  0.0044  0.0040  0.0117   R\n",
            "4  0.0762  0.0666  0.0481  0.0394  0.0590  ...  0.0072  0.0048  0.0107  0.0094   R\n",
            "\n",
            "[5 rows x 61 columns]\n"
          ],
          "name": "stdout"
        }
      ]
    },
    {
      "cell_type": "code",
      "metadata": {
        "id": "ZZZYCxn24Zfh",
        "colab_type": "code",
        "colab": {}
      },
      "source": [
        "dataset = df.values\n",
        "X = dataset[:,0:60]\n",
        "Y_obj = dataset[:,60]"
      ],
      "execution_count": 6,
      "outputs": []
    },
    {
      "cell_type": "code",
      "metadata": {
        "id": "B4G4ksd646so",
        "colab_type": "code",
        "colab": {
          "base_uri": "https://localhost:8080/",
          "height": 146
        },
        "outputId": "da771d16-db64-4ae9-fd7a-5237cb14be42"
      },
      "source": [
        "X"
      ],
      "execution_count": 7,
      "outputs": [
        {
          "output_type": "execute_result",
          "data": {
            "text/plain": [
              "array([[0.02, 0.0371, 0.0428, ..., 0.0084, 0.009, 0.0032],\n",
              "       [0.0453, 0.0523, 0.0843, ..., 0.0049, 0.0052, 0.0044],\n",
              "       [0.0262, 0.0582, 0.1099, ..., 0.0164, 0.0095, 0.0078],\n",
              "       ...,\n",
              "       [0.0522, 0.0437, 0.018, ..., 0.0138, 0.0077, 0.0031],\n",
              "       [0.0303, 0.0353, 0.049, ..., 0.0079, 0.0036, 0.0048],\n",
              "       [0.026, 0.0363, 0.0136, ..., 0.0036, 0.0061, 0.0115]], dtype=object)"
            ]
          },
          "metadata": {
            "tags": []
          },
          "execution_count": 7
        }
      ]
    },
    {
      "cell_type": "code",
      "metadata": {
        "id": "N0wZqdrY48j5",
        "colab_type": "code",
        "colab": {
          "base_uri": "https://localhost:8080/",
          "height": 330
        },
        "outputId": "d132aab9-9b7d-49d8-aa57-6abe25d9c7cb"
      },
      "source": [
        "Y_obj"
      ],
      "execution_count": 8,
      "outputs": [
        {
          "output_type": "execute_result",
          "data": {
            "text/plain": [
              "array(['R', 'R', 'R', 'R', 'R', 'R', 'R', 'R', 'R', 'R', 'R', 'R', 'R',\n",
              "       'R', 'R', 'R', 'R', 'R', 'R', 'R', 'R', 'R', 'R', 'R', 'R', 'R',\n",
              "       'R', 'R', 'R', 'R', 'R', 'R', 'R', 'R', 'R', 'R', 'R', 'R', 'R',\n",
              "       'R', 'R', 'R', 'R', 'R', 'R', 'R', 'R', 'R', 'R', 'R', 'R', 'R',\n",
              "       'R', 'R', 'R', 'R', 'R', 'R', 'R', 'R', 'R', 'R', 'R', 'R', 'R',\n",
              "       'R', 'R', 'R', 'R', 'R', 'R', 'R', 'R', 'R', 'R', 'R', 'R', 'R',\n",
              "       'R', 'R', 'R', 'R', 'R', 'R', 'R', 'R', 'R', 'R', 'R', 'R', 'R',\n",
              "       'R', 'R', 'R', 'R', 'R', 'R', 'M', 'M', 'M', 'M', 'M', 'M', 'M',\n",
              "       'M', 'M', 'M', 'M', 'M', 'M', 'M', 'M', 'M', 'M', 'M', 'M', 'M',\n",
              "       'M', 'M', 'M', 'M', 'M', 'M', 'M', 'M', 'M', 'M', 'M', 'M', 'M',\n",
              "       'M', 'M', 'M', 'M', 'M', 'M', 'M', 'M', 'M', 'M', 'M', 'M', 'M',\n",
              "       'M', 'M', 'M', 'M', 'M', 'M', 'M', 'M', 'M', 'M', 'M', 'M', 'M',\n",
              "       'M', 'M', 'M', 'M', 'M', 'M', 'M', 'M', 'M', 'M', 'M', 'M', 'M',\n",
              "       'M', 'M', 'M', 'M', 'M', 'M', 'M', 'M', 'M', 'M', 'M', 'M', 'M',\n",
              "       'M', 'M', 'M', 'M', 'M', 'M', 'M', 'M', 'M', 'M', 'M', 'M', 'M',\n",
              "       'M', 'M', 'M', 'M', 'M', 'M', 'M', 'M', 'M', 'M', 'M', 'M', 'M'],\n",
              "      dtype=object)"
            ]
          },
          "metadata": {
            "tags": []
          },
          "execution_count": 8
        }
      ]
    },
    {
      "cell_type": "code",
      "metadata": {
        "id": "Yyn2zLub4-UI",
        "colab_type": "code",
        "colab": {}
      },
      "source": [
        "# 문자열 변환\n",
        "e = LabelEncoder()\n",
        "e.fit(Y_obj)\n",
        "Y = e.transform(Y_obj)"
      ],
      "execution_count": 9,
      "outputs": []
    },
    {
      "cell_type": "code",
      "metadata": {
        "id": "jGfoyqP_4_uo",
        "colab_type": "code",
        "colab": {
          "base_uri": "https://localhost:8080/",
          "height": 201
        },
        "outputId": "45100d75-de47-4ef0-b86f-e3b9a73dc2f8"
      },
      "source": [
        "Y"
      ],
      "execution_count": 10,
      "outputs": [
        {
          "output_type": "execute_result",
          "data": {
            "text/plain": [
              "array([1, 1, 1, 1, 1, 1, 1, 1, 1, 1, 1, 1, 1, 1, 1, 1, 1, 1, 1, 1, 1, 1,\n",
              "       1, 1, 1, 1, 1, 1, 1, 1, 1, 1, 1, 1, 1, 1, 1, 1, 1, 1, 1, 1, 1, 1,\n",
              "       1, 1, 1, 1, 1, 1, 1, 1, 1, 1, 1, 1, 1, 1, 1, 1, 1, 1, 1, 1, 1, 1,\n",
              "       1, 1, 1, 1, 1, 1, 1, 1, 1, 1, 1, 1, 1, 1, 1, 1, 1, 1, 1, 1, 1, 1,\n",
              "       1, 1, 1, 1, 1, 1, 1, 1, 1, 0, 0, 0, 0, 0, 0, 0, 0, 0, 0, 0, 0, 0,\n",
              "       0, 0, 0, 0, 0, 0, 0, 0, 0, 0, 0, 0, 0, 0, 0, 0, 0, 0, 0, 0, 0, 0,\n",
              "       0, 0, 0, 0, 0, 0, 0, 0, 0, 0, 0, 0, 0, 0, 0, 0, 0, 0, 0, 0, 0, 0,\n",
              "       0, 0, 0, 0, 0, 0, 0, 0, 0, 0, 0, 0, 0, 0, 0, 0, 0, 0, 0, 0, 0, 0,\n",
              "       0, 0, 0, 0, 0, 0, 0, 0, 0, 0, 0, 0, 0, 0, 0, 0, 0, 0, 0, 0, 0, 0,\n",
              "       0, 0, 0, 0, 0, 0, 0, 0, 0, 0])"
            ]
          },
          "metadata": {
            "tags": []
          },
          "execution_count": 10
        }
      ]
    },
    {
      "cell_type": "markdown",
      "metadata": {
        "id": "fZFT5jmTA2HK",
        "colab_type": "text"
      },
      "source": [
        "## version_1 : 학습한 데이터로 테스트"
      ]
    },
    {
      "cell_type": "code",
      "metadata": {
        "id": "GbC4N7hu5Aag",
        "colab_type": "code",
        "colab": {}
      },
      "source": [
        "# 모델 설정\n",
        "model = Sequential()\n",
        "model.add(Dense(24,  input_dim=60, activation='relu'))\n",
        "model.add(Dense(10, activation='relu'))\n",
        "model.add(Dense(1, activation='sigmoid'))"
      ],
      "execution_count": 11,
      "outputs": []
    },
    {
      "cell_type": "code",
      "metadata": {
        "id": "uNLhcsiS5DLI",
        "colab_type": "code",
        "colab": {}
      },
      "source": [
        "# 모델 컴파일\n",
        "model.compile(loss='mean_squared_error',\n",
        "            optimizer='adam',\n",
        "            metrics=['accuracy'])"
      ],
      "execution_count": 12,
      "outputs": []
    },
    {
      "cell_type": "code",
      "metadata": {
        "id": "cSOr1wiV5QW8",
        "colab_type": "code",
        "colab": {}
      },
      "source": [
        "X = np.array(X)\n",
        "Y = np.array(Y)"
      ],
      "execution_count": 13,
      "outputs": []
    },
    {
      "cell_type": "code",
      "metadata": {
        "id": "97XWlEGi5EvQ",
        "colab_type": "code",
        "colab": {
          "base_uri": "https://localhost:8080/",
          "height": 164
        },
        "outputId": "158f1ae9-a57a-43d7-9b63-aad4cd919bb0"
      },
      "source": [
        "# 모델 실행\n",
        "model.fit(X, Y, epochs=3, batch_size=5)"
      ],
      "execution_count": 14,
      "outputs": [
        {
          "output_type": "stream",
          "text": [
            "Train on 208 samples\n",
            "Epoch 1/3\n",
            "208/208 [==============================] - 0s 211us/sample - loss: 0.2491 - acc: 0.5385\n",
            "Epoch 2/3\n",
            "208/208 [==============================] - 0s 189us/sample - loss: 0.2363 - acc: 0.5625\n",
            "Epoch 3/3\n",
            "208/208 [==============================] - 0s 299us/sample - loss: 0.2296 - acc: 0.6683\n"
          ],
          "name": "stdout"
        },
        {
          "output_type": "execute_result",
          "data": {
            "text/plain": [
              "<tensorflow.python.keras.callbacks.History at 0x7f081e089128>"
            ]
          },
          "metadata": {
            "tags": []
          },
          "execution_count": 14
        }
      ]
    },
    {
      "cell_type": "code",
      "metadata": {
        "id": "CxbZp0Y56ctQ",
        "colab_type": "code",
        "colab": {
          "base_uri": "https://localhost:8080/",
          "height": 129
        },
        "outputId": "f0bd00ee-5214-4e1e-9c3e-9bd685b79f2b"
      },
      "source": [
        "# 결과 출력 (정확도 100%)\n",
        "print(\"\\n Accuracy: %.4f\" % (model.evaluate(X, Y)[1]))"
      ],
      "execution_count": 15,
      "outputs": [
        {
          "output_type": "stream",
          "text": [
            "WARNING:tensorflow:From /usr/local/lib/python3.6/dist-packages/tensorflow/python/keras/engine/training_v1.py:2048: Model.state_updates (from tensorflow.python.keras.engine.training) is deprecated and will be removed in a future version.\n",
            "Instructions for updating:\n",
            "This property should not be used in TensorFlow 2.0, as updates are applied automatically.\n",
            "\n",
            " Accuracy: 0.6827\n"
          ],
          "name": "stdout"
        }
      ]
    },
    {
      "cell_type": "markdown",
      "metadata": {
        "id": "Rum1GmMYBNbg",
        "colab_type": "text"
      },
      "source": [
        "## version_2 : 학습셋과 테스트셋 구분"
      ]
    },
    {
      "cell_type": "markdown",
      "metadata": {
        "id": "y61c7OzoKP2q",
        "colab_type": "text"
      },
      "source": [
        "<< deep_code/05_Sonar_Train_Test.py >>"
      ]
    },
    {
      "cell_type": "code",
      "metadata": {
        "id": "Fb1YLM-WBbPY",
        "colab_type": "code",
        "colab": {}
      },
      "source": [
        "from sklearn.model_selection import train_test_split"
      ],
      "execution_count": 16,
      "outputs": []
    },
    {
      "cell_type": "code",
      "metadata": {
        "id": "cMngPb0o_r7L",
        "colab_type": "code",
        "colab": {}
      },
      "source": [
        "# 학습 셋과 테스트 셋의 구분 (208개, 7:3)\n",
        "X_train, X_test, Y_train, Y_test = train_test_split(X, Y, test_size=0.3, random_state=seed)"
      ],
      "execution_count": 17,
      "outputs": []
    },
    {
      "cell_type": "code",
      "metadata": {
        "id": "AKcks9VKBf5n",
        "colab_type": "code",
        "colab": {
          "base_uri": "https://localhost:8080/",
          "height": 90
        },
        "outputId": "0690e269-9e59-4503-e3b7-164cd7f08ffb"
      },
      "source": [
        "print(len(X_train)) \n",
        "print(len(Y_train))\n",
        "print(len(X_test))\n",
        "print(len(Y_test))"
      ],
      "execution_count": 18,
      "outputs": [
        {
          "output_type": "stream",
          "text": [
            "145\n",
            "145\n",
            "63\n",
            "63\n"
          ],
          "name": "stdout"
        }
      ]
    },
    {
      "cell_type": "code",
      "metadata": {
        "id": "jd8QlE6uBsI3",
        "colab_type": "code",
        "colab": {}
      },
      "source": [
        "model_2 = Sequential()\n",
        "model_2.add(Dense(24,  input_dim=60, activation='relu'))\n",
        "model_2.add(Dense(10, activation='relu'))\n",
        "model_2.add(Dense(1, activation='sigmoid'))"
      ],
      "execution_count": 19,
      "outputs": []
    },
    {
      "cell_type": "code",
      "metadata": {
        "id": "IV-DOXbZCW8-",
        "colab_type": "code",
        "colab": {}
      },
      "source": [
        "model_2.compile(loss='mean_squared_error',\n",
        "            optimizer='adam',\n",
        "            metrics=['accuracy'])"
      ],
      "execution_count": 20,
      "outputs": []
    },
    {
      "cell_type": "code",
      "metadata": {
        "id": "4Bu6zdcPCZpP",
        "colab_type": "code",
        "colab": {
          "base_uri": "https://localhost:8080/",
          "height": 201
        },
        "outputId": "03c0ac44-0ff2-4bb5-f7a9-2cc683f3d2c6"
      },
      "source": [
        "model_2.fit(X_train, Y_train, epochs=4, batch_size=5)"
      ],
      "execution_count": 21,
      "outputs": [
        {
          "output_type": "stream",
          "text": [
            "Train on 145 samples\n",
            "Epoch 1/4\n",
            "145/145 [==============================] - 0s 204us/sample - loss: 0.2471 - acc: 0.5517\n",
            "Epoch 2/4\n",
            "145/145 [==============================] - 0s 212us/sample - loss: 0.2337 - acc: 0.6276\n",
            "Epoch 3/4\n",
            "145/145 [==============================] - 0s 196us/sample - loss: 0.2254 - acc: 0.7103\n",
            "Epoch 4/4\n",
            "145/145 [==============================] - 0s 208us/sample - loss: 0.2186 - acc: 0.7310\n"
          ],
          "name": "stdout"
        },
        {
          "output_type": "execute_result",
          "data": {
            "text/plain": [
              "<tensorflow.python.keras.callbacks.History at 0x7f081734d400>"
            ]
          },
          "metadata": {
            "tags": []
          },
          "execution_count": 21
        }
      ]
    },
    {
      "cell_type": "code",
      "metadata": {
        "id": "vS-x514yCdMP",
        "colab_type": "code",
        "colab": {
          "base_uri": "https://localhost:8080/",
          "height": 54
        },
        "outputId": "2d087a9d-2245-4f40-8185-017b3e6b0b1c"
      },
      "source": [
        "# 테스트셋에 모델 적용  (정확도 80.95%)\n",
        "print(\"\\n Test Accuracy: %.4f\" % (model_2.evaluate(X_test, Y_test)[1]))"
      ],
      "execution_count": 22,
      "outputs": [
        {
          "output_type": "stream",
          "text": [
            "\n",
            " Test Accuracy: 0.6984\n"
          ],
          "name": "stdout"
        }
      ]
    },
    {
      "cell_type": "markdown",
      "metadata": {
        "id": "j8CY3ieOCx7p",
        "colab_type": "text"
      },
      "source": [
        "## version_3 : 모델 저장과 재사용"
      ]
    },
    {
      "cell_type": "markdown",
      "metadata": {
        "id": "muK_bdlXKbMT",
        "colab_type": "text"
      },
      "source": [
        "<< deep_code/06-Sonar-Save-Model.py >>"
      ]
    },
    {
      "cell_type": "code",
      "metadata": {
        "id": "aBT2w3b0DRQ1",
        "colab_type": "code",
        "colab": {}
      },
      "source": [
        "# 모델을 컴퓨터에 저장\n",
        "model_2.save('/content/drive/My Drive/model/sonar_model_v2.h5')"
      ],
      "execution_count": 23,
      "outputs": []
    },
    {
      "cell_type": "code",
      "metadata": {
        "id": "t7y5lATTDl9Y",
        "colab_type": "code",
        "colab": {
          "base_uri": "https://localhost:8080/",
          "height": 35
        },
        "outputId": "5a0b7f6e-033e-42b6-ff44-20cb01a0c2e9"
      },
      "source": [
        "model_2"
      ],
      "execution_count": 24,
      "outputs": [
        {
          "output_type": "execute_result",
          "data": {
            "text/plain": [
              "<tensorflow.python.keras.engine.sequential.Sequential at 0x7f081734d780>"
            ]
          },
          "metadata": {
            "tags": []
          },
          "execution_count": 24
        }
      ]
    },
    {
      "cell_type": "code",
      "metadata": {
        "id": "ElC-UV-CDvqO",
        "colab_type": "code",
        "colab": {}
      },
      "source": [
        "# 테스트를 위해 메모리내의 모델을 삭제\n",
        "##del model_2"
      ],
      "execution_count": 25,
      "outputs": []
    },
    {
      "cell_type": "code",
      "metadata": {
        "id": "q82ke6c0D4x_",
        "colab_type": "code",
        "colab": {
          "base_uri": "https://localhost:8080/",
          "height": 35
        },
        "outputId": "3e39acaf-b90d-4cde-9637-bdcb746aa57b"
      },
      "source": [
        "model_2"
      ],
      "execution_count": 26,
      "outputs": [
        {
          "output_type": "execute_result",
          "data": {
            "text/plain": [
              "<tensorflow.python.keras.engine.sequential.Sequential at 0x7f081734d780>"
            ]
          },
          "metadata": {
            "tags": []
          },
          "execution_count": 26
        }
      ]
    },
    {
      "cell_type": "code",
      "metadata": {
        "id": "coUs1c9pEH21",
        "colab_type": "code",
        "colab": {}
      },
      "source": [
        "from keras.models import load_model"
      ],
      "execution_count": 27,
      "outputs": []
    },
    {
      "cell_type": "code",
      "metadata": {
        "id": "_ZQNE2T0D5ol",
        "colab_type": "code",
        "colab": {
          "base_uri": "https://localhost:8080/",
          "height": 147
        },
        "outputId": "0662ac5b-e5ec-41e6-a17c-cb3b7db555ab"
      },
      "source": [
        "model_3 = load_model('/content/drive/My Drive/model/sonar_model_v2.h5')"
      ],
      "execution_count": 28,
      "outputs": [
        {
          "output_type": "stream",
          "text": [
            "WARNING:tensorflow:From /usr/local/lib/python3.6/dist-packages/tensorflow/python/ops/init_ops.py:97: calling GlorotUniform.__init__ (from tensorflow.python.ops.init_ops) with dtype is deprecated and will be removed in a future version.\n",
            "Instructions for updating:\n",
            "Call initializer instance with the dtype argument instead of passing it to the constructor\n",
            "WARNING:tensorflow:From /usr/local/lib/python3.6/dist-packages/tensorflow/python/ops/init_ops.py:97: calling Zeros.__init__ (from tensorflow.python.ops.init_ops) with dtype is deprecated and will be removed in a future version.\n",
            "Instructions for updating:\n",
            "Call initializer instance with the dtype argument instead of passing it to the constructor\n"
          ],
          "name": "stdout"
        }
      ]
    },
    {
      "cell_type": "code",
      "metadata": {
        "id": "4PHlk8Q-EWnU",
        "colab_type": "code",
        "colab": {
          "base_uri": "https://localhost:8080/",
          "height": 35
        },
        "outputId": "2ff608e1-46a9-4ad3-a382-25f2cf1c4c78"
      },
      "source": [
        "model_3"
      ],
      "execution_count": 29,
      "outputs": [
        {
          "output_type": "execute_result",
          "data": {
            "text/plain": [
              "<tensorflow.python.keras.engine.sequential.Sequential at 0x7f0816e2df60>"
            ]
          },
          "metadata": {
            "tags": []
          },
          "execution_count": 29
        }
      ]
    },
    {
      "cell_type": "code",
      "metadata": {
        "id": "Z-_ThwtHEZX8",
        "colab_type": "code",
        "colab": {
          "base_uri": "https://localhost:8080/",
          "height": 54
        },
        "outputId": "22302202-c7bd-4474-efcd-0d2bdbb9d449"
      },
      "source": [
        "# 불러온 모델로 테스트 실행 (정확도 80.95%)\n",
        "print(\"\\n Test Accuracy: %.4f\" % (model_3.evaluate(X_test, Y_test)[1]))  "
      ],
      "execution_count": 30,
      "outputs": [
        {
          "output_type": "stream",
          "text": [
            "\n",
            " Test Accuracy: 0.6984\n"
          ],
          "name": "stdout"
        }
      ]
    },
    {
      "cell_type": "markdown",
      "metadata": {
        "id": "aJB1Y3IvHAEV",
        "colab_type": "text"
      },
      "source": [
        "# version_4 : k-fold cross validation"
      ]
    },
    {
      "cell_type": "markdown",
      "metadata": {
        "id": "fu7xQTRZKhdC",
        "colab_type": "text"
      },
      "source": [
        "<< deep_code/07_Sonar-K-fold.py >>"
      ]
    },
    {
      "cell_type": "code",
      "metadata": {
        "id": "-bJ0AjqLHLWa",
        "colab_type": "code",
        "colab": {}
      },
      "source": [
        "from sklearn.model_selection import StratifiedKFold"
      ],
      "execution_count": 31,
      "outputs": []
    },
    {
      "cell_type": "code",
      "metadata": {
        "id": "ZhgjDq-3EgSE",
        "colab_type": "code",
        "colab": {}
      },
      "source": [
        "# 4개의 파일로 쪼갬 (for문에서 어떻게 동작하는지 보려고 fold 수 줄임)\n",
        "n_fold = 4\n",
        "skf = StratifiedKFold(n_splits=n_fold, shuffle=True, random_state=seed)"
      ],
      "execution_count": 32,
      "outputs": []
    },
    {
      "cell_type": "code",
      "metadata": {
        "id": "XycASVACHOmK",
        "colab_type": "code",
        "colab": {}
      },
      "source": [
        "# 빈 accuracy 배열\n",
        "accuracy = []"
      ],
      "execution_count": 33,
      "outputs": []
    },
    {
      "cell_type": "code",
      "metadata": {
        "id": "4Yay6sQWHRLy",
        "colab_type": "code",
        "colab": {
          "base_uri": "https://localhost:8080/",
          "height": 532
        },
        "outputId": "97038354-4e5b-4b7d-b55b-dfecd92b9761"
      },
      "source": [
        "# 모델의 설정, 컴파일, 실행 (for문 4번 돌아가고 epoch 3, 데이터 개수는 208개 중 3:1 비율이므로 156:52)\n",
        "for train, test in skf.split(X, Y):\n",
        "    model_4 = Sequential()\n",
        "    model_4.add(Dense(24, input_dim=60, activation='relu'))\n",
        "    model_4.add(Dense(10, activation='relu'))\n",
        "    model_4.add(Dense(1, activation='sigmoid'))\n",
        "    model_4.compile(loss='mean_squared_error',\n",
        "                  optimizer='adam',\n",
        "                  metrics=['accuracy'])\n",
        "    model_4.fit(X[train], Y[train], epochs=3, batch_size=5)\n",
        "    k_accuracy = \"%.4f\" % (model_4.evaluate(X[test], Y[test])[1])\n",
        "    accuracy.append(k_accuracy)"
      ],
      "execution_count": 34,
      "outputs": [
        {
          "output_type": "stream",
          "text": [
            "Train on 156 samples\n",
            "Epoch 1/3\n",
            "156/156 [==============================] - 0s 231us/sample - loss: 0.2573 - acc: 0.4615\n",
            "Epoch 2/3\n",
            "156/156 [==============================] - 0s 218us/sample - loss: 0.2417 - acc: 0.6026\n",
            "Epoch 3/3\n",
            "156/156 [==============================] - 0s 225us/sample - loss: 0.2338 - acc: 0.6603\n",
            "Train on 156 samples\n",
            "Epoch 1/3\n",
            "156/156 [==============================] - 0s 273us/sample - loss: 0.2499 - acc: 0.5321\n",
            "Epoch 2/3\n",
            "156/156 [==============================] - 0s 230us/sample - loss: 0.2408 - acc: 0.5513\n",
            "Epoch 3/3\n",
            "156/156 [==============================] - 0s 202us/sample - loss: 0.2370 - acc: 0.5897\n",
            "Train on 156 samples\n",
            "Epoch 1/3\n",
            "156/156 [==============================] - 0s 320us/sample - loss: 0.2428 - acc: 0.6154\n",
            "Epoch 2/3\n",
            "156/156 [==============================] - 0s 235us/sample - loss: 0.2288 - acc: 0.7244\n",
            "Epoch 3/3\n",
            "156/156 [==============================] - 0s 216us/sample - loss: 0.2173 - acc: 0.7115\n",
            "Train on 156 samples\n",
            "Epoch 1/3\n",
            "156/156 [==============================] - 0s 241us/sample - loss: 0.2510 - acc: 0.4744\n",
            "Epoch 2/3\n",
            "156/156 [==============================] - 0s 240us/sample - loss: 0.2484 - acc: 0.5962\n",
            "Epoch 3/3\n",
            "156/156 [==============================] - 0s 219us/sample - loss: 0.2477 - acc: 0.6282\n"
          ],
          "name": "stdout"
        }
      ]
    },
    {
      "cell_type": "code",
      "metadata": {
        "id": "eDkwyLh8HbS5",
        "colab_type": "code",
        "colab": {
          "base_uri": "https://localhost:8080/",
          "height": 54
        },
        "outputId": "ca6a917a-a574-48c1-cc39-ccea59466caa"
      },
      "source": [
        "# 결과 출력\n",
        "print(\"\\n %.f fold accuracy:\" % n_fold, accuracy)"
      ],
      "execution_count": 35,
      "outputs": [
        {
          "output_type": "stream",
          "text": [
            "\n",
            " 4 fold accuracy: ['0.6538', '0.5385', '0.6538', '0.5769']\n"
          ],
          "name": "stdout"
        }
      ]
    },
    {
      "cell_type": "code",
      "metadata": {
        "id": "9sinskVbINEb",
        "colab_type": "code",
        "colab": {}
      },
      "source": [
        ""
      ],
      "execution_count": 35,
      "outputs": []
    }
  ]
}