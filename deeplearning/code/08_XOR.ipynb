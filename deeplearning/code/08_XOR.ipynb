{
  "nbformat": 4,
  "nbformat_minor": 0,
  "metadata": {
    "colab": {
      "name": "08_XOR.ipynb",
      "provenance": [],
      "authorship_tag": "ABX9TyO35d0FToa6+b1moPcdowIj",
      "include_colab_link": true
    },
    "kernelspec": {
      "name": "python3",
      "display_name": "Python 3"
    }
  },
  "cells": [
    {
      "cell_type": "markdown",
      "metadata": {
        "id": "view-in-github",
        "colab_type": "text"
      },
      "source": [
        "<a href=\"https://colab.research.google.com/github/plancute/python/blob/master/deeplearning/code/08_XOR.ipynb\" target=\"_parent\"><img src=\"https://colab.research.google.com/assets/colab-badge.svg\" alt=\"Open In Colab\"/></a>"
      ]
    },
    {
      "cell_type": "markdown",
      "metadata": {
        "id": "pgvTvWcOYpy0",
        "colab_type": "text"
      },
      "source": [
        "# 6장 퍼셉트론\n",
        "# 7장 다층 퍼셉트론"
      ]
    },
    {
      "cell_type": "code",
      "metadata": {
        "id": "7OOK0b8kNshl",
        "colab_type": "code",
        "colab": {}
      },
      "source": [
        "# http://colah.github.io/posts/2015-09-NN-Types-FP/"
      ],
      "execution_count": null,
      "outputs": []
    },
    {
      "cell_type": "code",
      "metadata": {
        "id": "V0Opy2cVVt2p",
        "colab_type": "code",
        "colab": {}
      },
      "source": [
        "import numpy as np"
      ],
      "execution_count": 1,
      "outputs": []
    },
    {
      "cell_type": "code",
      "metadata": {
        "id": "U_u7YmU8V03W",
        "colab_type": "code",
        "colab": {}
      },
      "source": [
        "# 가중치와 바이어스\n",
        "w11 = np.array([-2,-2])\n",
        "w12 = np.array([2,2])\n",
        "w2 = np.array([1,1])\n",
        "b1=3\n",
        "b2=-1\n",
        "b3=-1"
      ],
      "execution_count": 3,
      "outputs": []
    },
    {
      "cell_type": "code",
      "metadata": {
        "id": "lg59jbjTWRAc",
        "colab_type": "code",
        "colab": {}
      },
      "source": [
        "# 퍼셉트론\n",
        "def MLP(x,w,b):\n",
        "  y = np.sum(w*x) + b\n",
        "  if y <= 0:\n",
        "    return 0\n",
        "  else:\n",
        "    return 1"
      ],
      "execution_count": 4,
      "outputs": []
    },
    {
      "cell_type": "code",
      "metadata": {
        "id": "Lgr36XtAWnpc",
        "colab_type": "code",
        "colab": {}
      },
      "source": [
        "# NAND 게이트\n",
        "def NAND(x1,x2):\n",
        "  return MLP(np.array([x1,x2]),w11,b1)"
      ],
      "execution_count": 7,
      "outputs": []
    },
    {
      "cell_type": "code",
      "metadata": {
        "id": "6-YX5iAGW0F7",
        "colab_type": "code",
        "colab": {}
      },
      "source": [
        "# OR 게이트\n",
        "def OR(x1,x2):\n",
        "  return MLP(np.array([x1,x2]),w12,b2)"
      ],
      "execution_count": 8,
      "outputs": []
    },
    {
      "cell_type": "code",
      "metadata": {
        "id": "yd2XaTaTXGhy",
        "colab_type": "code",
        "colab": {}
      },
      "source": [
        "# AND 게이트\n",
        "def AND(x1,x2):\n",
        "  return MLP(np.array([x1,x2]),w2,b3)"
      ],
      "execution_count": 9,
      "outputs": []
    },
    {
      "cell_type": "code",
      "metadata": {
        "id": "2QZmcZN5XYvj",
        "colab_type": "code",
        "colab": {}
      },
      "source": [
        "# XOR 게이트\n",
        "def XOR(x1,x2):\n",
        "   return AND(NAND(x1,x2),OR(x1,x2))"
      ],
      "execution_count": 10,
      "outputs": []
    },
    {
      "cell_type": "code",
      "metadata": {
        "id": "RNoi7e0aXuIr",
        "colab_type": "code",
        "colab": {
          "base_uri": "https://localhost:8080/",
          "height": 90
        },
        "outputId": "4c057140-c785-43cc-bbfc-8015f60b0e1e"
      },
      "source": [
        "# x1, x2값을 번갈아 대입해 가며 최종값 출력\n",
        "if __name__ == '__main__':\n",
        "  for x in [(0,0),(1,0),(0,1),(1,1)]:\n",
        "    y = XOR(x[0],x[1])\n",
        "    print(\"입력값 ; \"+ str(x)+ \"출력값 : \"+str(y))"
      ],
      "execution_count": 11,
      "outputs": [
        {
          "output_type": "stream",
          "text": [
            "입력값 ; (0, 0)출력값 : 0\n",
            "입력값 ; (1, 0)출력값 : 1\n",
            "입력값 ; (0, 1)출력값 : 1\n",
            "입력값 ; (1, 1)출력값 : 0\n"
          ],
          "name": "stdout"
        }
      ]
    },
    {
      "cell_type": "code",
      "metadata": {
        "id": "BSLS1yN_Ya8h",
        "colab_type": "code",
        "colab": {}
      },
      "source": [
        ""
      ],
      "execution_count": null,
      "outputs": []
    }
  ]
}