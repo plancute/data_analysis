{
  "nbformat": 4,
  "nbformat_minor": 0,
  "metadata": {
    "colab": {
      "name": "14_3_베스트_모델_만들기.ipynb",
      "provenance": [],
      "collapsed_sections": [],
      "authorship_tag": "ABX9TyMHUHQRkafwU9A59YR66FwL",
      "include_colab_link": true
    },
    "kernelspec": {
      "name": "python3",
      "display_name": "Python 3"
    }
  },
  "cells": [
    {
      "cell_type": "markdown",
      "metadata": {
        "id": "view-in-github",
        "colab_type": "text"
      },
      "source": [
        "<a href=\"https://colab.research.google.com/github/plancute/python/blob/master/deeplearning/code/14_3_%EB%B2%A0%EC%8A%A4%ED%8A%B8_%EB%AA%A8%EB%8D%B8_%EB%A7%8C%EB%93%A4%EA%B8%B0.ipynb\" target=\"_parent\"><img src=\"https://colab.research.google.com/assets/colab-badge.svg\" alt=\"Open In Colab\"/></a>"
      ]
    },
    {
      "cell_type": "markdown",
      "metadata": {
        "id": "1c_p55xgH0Te",
        "colab_type": "text"
      },
      "source": [
        "- 학습한 code <br>\n",
        "  deep_code/08_Wine.py <br>\n",
        "  deep_code/09_Wine_Checkpoint.py <br>\n",
        "  deep_code/10_Wine_Overfit_Graph.py <br>\n",
        "  deep_code/11_Wine_Early_Stop.py <br>\n",
        "  deep_code/12_Wine_Check_and_Stop.py <br>"
      ]
    },
    {
      "cell_type": "markdown",
      "metadata": {
        "id": "Qouws_f5H4uk",
        "colab_type": "text"
      },
      "source": [
        "4. 학습의 자동 중단 <br>\n",
        "<< deep_code/11_Wine_Early_Stop.py >> "
      ]
    },
    {
      "cell_type": "code",
      "metadata": {
        "id": "PjW2X7aAHzn4",
        "colab_type": "code",
        "colab": {}
      },
      "source": [
        ""
      ],
      "execution_count": null,
      "outputs": []
    }
  ]
}